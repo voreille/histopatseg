{
 "cells": [
  {
   "cell_type": "code",
   "execution_count": null,
   "id": "bebae771",
   "metadata": {},
   "outputs": [],
   "source": [
    "from pathlib import Path\n",
    "\n",
    "import h5py\n",
    "import pandas as pd\n",
    "from openslide import OpenSlide\n",
    "import numpy as np\n",
    "import matplotlib.pyplot as plt\n",
    "import torchvision\n",
    "import torch\n",
    "import cv2\n",
    "from torch.nn.functional import normalize\n",
    "from PIL import Image\n",
    "from histopreprocessing.features.foundation_models import load_model\n",
    "\n",
    "from histopatseg.fewshot.protonet import ProtoNet, prototype_topk_vote\n",
    "from histopatseg.fewshot.extract_patch_features import extract_patch_features_from_dataloader\n",
    "from histopatseg.data.compute_embeddings_tcga_ut import load_hdf5\n"
   ]
  },
  {
   "cell_type": "code",
   "execution_count": null,
   "id": "9196208c",
   "metadata": {},
   "outputs": [],
   "source": [
    "# label_map = {\"aca_bd\": 0, \"aca_md\": 1, \"aca_pd\":2, \"nor\":3}\n",
    "label_map = {\"aca_bd\": 0, \"aca_md\": 1, \"aca_pd\":2, \"nor\":3, \"scc_bd\": 4, \"scc_md\": 5, \"scc_pd\":6}"
   ]
  },
  {
   "cell_type": "code",
   "execution_count": null,
   "id": "8bfc9be5",
   "metadata": {},
   "outputs": [],
   "source": [
    "project_dir = Path(\".\").resolve().parent\n",
    "print(f\"Project Directory: {project_dir}\")"
   ]
  },
  {
   "cell_type": "code",
   "execution_count": null,
   "id": "fa33bd56",
   "metadata": {},
   "outputs": [],
   "source": [
    "embedding_file = project_dir / \"data/processed/embeddings/LungHist700/lunghist700_20x_UNI2_TS_256_embeddings.npz\"\n",
    "metadata  = pd.read_csv(project_dir / \"data/processed/LungHist700_tiled/LungHist700_20x_TS_256/metadata.csv\").set_index(\"tile_id\")\n",
    "metadata.head()"
   ]
  },
  {
   "cell_type": "code",
   "execution_count": null,
   "id": "cae3d0c7",
   "metadata": {},
   "outputs": [],
   "source": [
    "# Load the embeddings\n",
    "data = np.load(embedding_file)\n",
    "embeddings = data[\"embeddings\"]\n",
    "tile_ids = data[\"tile_ids\"]\n",
    "embedding_dim = data[\"embedding_dim\"]\n",
    "\n",
    "# Print basic information\n",
    "print(f\"Loaded {len(embeddings)} embeddings with dimensionality {embeddings.shape[1]}\")\n",
    "print(f\"Embedding dimension from model: {embedding_dim}\")"
   ]
  },
  {
   "cell_type": "code",
   "execution_count": null,
   "id": "efda3e91",
   "metadata": {},
   "outputs": [],
   "source": [
    "embeddings_df = pd.DataFrame(\n",
    "    {\n",
    "        \"tile_id\": tile_ids,\n",
    "        \"embeddings\": list(embeddings),  # Add embeddings as a column\n",
    "    }\n",
    ").set_index(\"tile_id\")"
   ]
  },
  {
   "cell_type": "code",
   "execution_count": null,
   "id": "b8cce692",
   "metadata": {},
   "outputs": [],
   "source": [
    "df = pd.concat([embeddings_df, metadata], axis=1)"
   ]
  },
  {
   "cell_type": "code",
   "execution_count": null,
   "id": "21e3680b",
   "metadata": {},
   "outputs": [],
   "source": [
    "# df_filtered = df[(df[\"superclass\"] == \"aca\") | (df[\"superclass\"] == \"nor\")]\n",
    "df_filtered = df\n",
    "num_classes = 7"
   ]
  },
  {
   "cell_type": "code",
   "execution_count": null,
   "id": "bda2145b",
   "metadata": {},
   "outputs": [],
   "source": [
    "df_filtered.head()"
   ]
  },
  {
   "cell_type": "code",
   "execution_count": null,
   "id": "9f1f9ab2",
   "metadata": {},
   "outputs": [],
   "source": [
    "# Extract embeddings and labels\n",
    "embeddings_train = np.stack(df_filtered[\"embeddings\"].values)\n",
    "labels_train = df_filtered[\"class_name\"].values\n",
    "labels_train = np.array([label_map[label] for label in labels_train])\n"
   ]
  },
  {
   "cell_type": "code",
   "execution_count": null,
   "id": "580363bc",
   "metadata": {},
   "outputs": [],
   "source": [
    "embeddings_train"
   ]
  },
  {
   "cell_type": "code",
   "execution_count": null,
   "id": "05a0ea95",
   "metadata": {},
   "outputs": [],
   "source": [
    "protonet = ProtoNet()\n",
    "protonet.fit(\n",
    "    torch.tensor(embeddings_train, dtype=torch.float32),\n",
    "    torch.tensor(labels_train, dtype=torch.long),\n",
    ")"
   ]
  },
  {
   "cell_type": "code",
   "execution_count": null,
   "id": "8df9e01b",
   "metadata": {},
   "outputs": [],
   "source": [
    "metadata_luad = pd.read_csv(\"/mnt/nas6/data/CPTAC/TCIA_CPTAC_LUAD_Pathology_Data_Table.csv\").set_index(\"Slide_ID\")\n",
    "metadata_lusc = pd.read_csv(\"/mnt/nas6/data/CPTAC/TCIA_CPTAC_LSCC_Pathology_Data_Table.csv\").set_index(\"Slide_ID\")\n",
    "metadata = pd.concat([metadata_luad, metadata_lusc], axis=0)"
   ]
  },
  {
   "cell_type": "code",
   "execution_count": null,
   "id": "f8fbaff9",
   "metadata": {},
   "outputs": [],
   "source": [
    "wsi_id = \"C3N-02929-22\"\n",
    "tumor_hist_type = metadata.loc[wsi_id, 'Tumor_Histological_Type']\n",
    "cohort = metadata.loc[wsi_id, \"Tumor\"]"
   ]
  },
  {
   "cell_type": "code",
   "execution_count": null,
   "id": "71df013e",
   "metadata": {},
   "outputs": [],
   "source": [
    "print(f\"Specimen Type: {metadata.loc[wsi_id, 'Specimen_Type']}\")\n",
    "print(f\"Tumor Histological Type: {tumor_hist_type}\")\n",
    "print(f\"Cohort: {cohort}\")"
   ]
  },
  {
   "cell_type": "code",
   "execution_count": null,
   "id": "816f2f63",
   "metadata": {},
   "outputs": [],
   "source": [
    "tumor_histological_counts = metadata[\"Tumor_Histological_Type\"].value_counts()"
   ]
  },
  {
   "cell_type": "code",
   "execution_count": null,
   "id": "de9b9c19",
   "metadata": {},
   "outputs": [],
   "source": [
    "result = load_hdf5(f\"../data/processed/mahmoodlab/UNI2-h_features/CPTAC/CPTAC_{cohort}/{wsi_id}.h5\")"
   ]
  },
  {
   "cell_type": "code",
   "execution_count": null,
   "id": "296c2953",
   "metadata": {},
   "outputs": [],
   "source": [
    "wsi_matches = list(Path(\"/mnt/nas6/data/CPTAC/\").rglob(f\"**/{wsi_id}.svs\"))\n",
    "if len(wsi_matches) == 0:\n",
    "    raise FileNotFoundError(f\"Could not find WSI file for {wsi_id}\")\n",
    "elif len(wsi_matches) > 1:\n",
    "    raise FileExistsError(f\"Multiple WSI files found for {wsi_id}\")"
   ]
  },
  {
   "cell_type": "code",
   "execution_count": null,
   "id": "408113c4",
   "metadata": {},
   "outputs": [],
   "source": [
    "wsi = OpenSlide(wsi_matches[0])"
   ]
  },
  {
   "cell_type": "code",
   "execution_count": null,
   "id": "19fd314e",
   "metadata": {},
   "outputs": [],
   "source": [
    "print(f\"mpp x : {wsi.properties.get('openslide.mpp-x', 'nan')}\")\n",
    "print(f\"mpp y : {wsi.properties.get('openslide.mpp-y', 'nan')}\")"
   ]
  },
  {
   "cell_type": "code",
   "execution_count": null,
   "id": "955c5ca3",
   "metadata": {},
   "outputs": [],
   "source": [
    "result[\"datasets\"].keys()"
   ]
  },
  {
   "cell_type": "code",
   "execution_count": null,
   "id": "2f8d1be6",
   "metadata": {},
   "outputs": [],
   "source": [
    "result[\"datasets\"][\"coords\"][:].shape"
   ]
  },
  {
   "cell_type": "code",
   "execution_count": null,
   "id": "23eb1d3f",
   "metadata": {},
   "outputs": [],
   "source": [
    "# embeddings = result[\"datasets\"][\"embeddings\"]\n",
    "# coordinates = result[\"datasets\"][\"coordinates\"]\n",
    "embeddings = np.squeeze(result[\"datasets\"][\"features\"])\n",
    "coordinates = np.squeeze(result[\"datasets\"][\"coords\"])"
   ]
  },
  {
   "cell_type": "code",
   "execution_count": null,
   "id": "34f90da8",
   "metadata": {},
   "outputs": [],
   "source": [
    "coordinates[1,:] - coordinates[0,:]"
   ]
  },
  {
   "cell_type": "code",
   "execution_count": null,
   "id": "3d4ee383",
   "metadata": {},
   "outputs": [],
   "source": [
    "coordinates.shape, embeddings.shape"
   ]
  },
  {
   "cell_type": "code",
   "execution_count": null,
   "id": "9b8a02d2",
   "metadata": {},
   "outputs": [],
   "source": [
    "def compute_distances(embeddings, prototype_embeddings, mean_embedding):\n",
    "    \"\"\"\n",
    "    Compute the similarity between an embedding and a prototype.\n",
    "    \"\"\"\n",
    "    # Normalize the vectors\n",
    "    \n",
    "    feats_query = embeddings\n",
    "    feats_query = feats_query - mean_embedding\n",
    "    feats_query = normalize(feats_query, dim=-1, p=2)\n",
    "    feats_query = feats_query[:, None]  # [N x 1 x D]\n",
    "    proto_embeddings = prototype_embeddings[None, :]  # [1 x C x D]\n",
    "    pw_dist = (feats_query - proto_embeddings).norm(\n",
    "            dim=-1, p=2\n",
    "    )  # [N x C ]\n",
    "    \n",
    "    return pw_dist"
   ]
  },
  {
   "cell_type": "code",
   "execution_count": null,
   "id": "988762fb",
   "metadata": {},
   "outputs": [],
   "source": [
    "distances = compute_distances(torch.tensor(embeddings, dtype=torch.float32), protonet.prototype_embeddings, protonet.mean).numpy()"
   ]
  },
  {
   "cell_type": "code",
   "execution_count": null,
   "id": "ca485bef",
   "metadata": {},
   "outputs": [],
   "source": [
    "prototype_topk_vote(protonet, torch.tensor(embeddings, dtype=torch.float32), topk=5)"
   ]
  },
  {
   "cell_type": "code",
   "execution_count": null,
   "id": "666364ce",
   "metadata": {},
   "outputs": [],
   "source": [
    "distances.shape"
   ]
  },
  {
   "cell_type": "code",
   "execution_count": null,
   "id": "129de1dc",
   "metadata": {},
   "outputs": [],
   "source": [
    "wsi.level_dimensions[0]"
   ]
  },
  {
   "cell_type": "code",
   "execution_count": null,
   "id": "a6bb4495",
   "metadata": {},
   "outputs": [],
   "source": [
    "wsi.level_dimensions[0][0] / wsi.level_dimensions[-1][0] "
   ]
  },
  {
   "cell_type": "code",
   "execution_count": null,
   "id": "0bb398e6",
   "metadata": {},
   "outputs": [],
   "source": [
    "def compute_heatmap_optimized(wsi, coordinates, scores, tile_size=224, tile_level=0, rescale=False):\n",
    "\n",
    "    # Rescale scores if needed\n",
    "    if rescale:\n",
    "        scores = (2 * scores - np.min(scores) - np.max(scores)) / (np.max(scores) - np.min(scores))\n",
    "\n",
    "    num_classes = scores.shape[1]\n",
    "\n",
    "    downsample_to_base = wsi.level_downsamples[tile_level]  # From scores_level to level 0\n",
    "\n",
    "    wsi_dimensions = wsi.level_dimensions[0]\n",
    "    downsample = downsample_to_base * tile_size\n",
    "    heatmap_height = np.round(wsi_dimensions[0] / downsample).astype(int)\n",
    "    heatmap_width = np.round(wsi_dimensions[1] / downsample).astype(int)\n",
    "    heatmap = np.zeros((heatmap_width, heatmap_height, num_classes), dtype=np.float32)  # Shape should be (height, width)\n",
    "\n",
    "    # Populate the heatmap\n",
    "    for i, (x, y) in enumerate(coordinates):\n",
    "        grid_x = np.floor(x / downsample).astype(int)\n",
    "        grid_y = np.floor(y / downsample).astype(int)\n",
    "        heatmap[grid_y, grid_x, :] = scores[i, :]\n",
    "\n",
    "    # Upscale the heatmap to match the thumbnail size\n",
    "    thumbnail_size = wsi.level_dimensions[-1]  # (height, width)\n",
    "    heatmap_upscaled = cv2.resize(heatmap, thumbnail_size, interpolation=cv2.INTER_LINEAR)\n",
    "    thumbnail = wsi.get_thumbnail(thumbnail_size)\n",
    "\n",
    "    return heatmap_upscaled, thumbnail"
   ]
  },
  {
   "cell_type": "code",
   "execution_count": null,
   "id": "122a1691",
   "metadata": {},
   "outputs": [],
   "source": [
    "heatmaps, thumbnail = compute_heatmap_optimized(wsi, coordinates, -distances, tile_size=256, tile_level=0, rescale=True)"
   ]
  },
  {
   "cell_type": "code",
   "execution_count": null,
   "id": "08dfee9d",
   "metadata": {},
   "outputs": [],
   "source": [
    "heatmaps.shape"
   ]
  },
  {
   "cell_type": "code",
   "execution_count": null,
   "id": "9a3170f7",
   "metadata": {},
   "outputs": [],
   "source": [
    "# Normalize all heatmaps to the same scale\n",
    "vmin = np.min(heatmaps)\n",
    "vmax = np.max(heatmaps)\n",
    "\n",
    "# Create subplots with space for a colorbar\n",
    "fig, axes = plt.subplots(1, num_classes+1, figsize=(15, 5), gridspec_kw={\"width_ratios\":[1,]*num_classes + [0.05]})\n",
    "fig.suptitle(f\"Heatmaps for WSI {wsi_id} with {tumor_hist_type} Tumor Type\", fontsize=16)\n",
    "\n",
    "titles = [f\"{i}\" for i in label_map.keys()]\n",
    "\n",
    "heatmaps_list = [heatmaps[:, :, i] for i in range(heatmaps.shape[2])]\n",
    "\n",
    "# Plot heatmaps\n",
    "for ax, heatmap, title in zip(axes[:-1], heatmaps_list, titles):  # Exclude the last axis for the colorbar\n",
    "    im = ax.imshow(heatmap.squeeze(), cmap=\"jet\", vmin=vmin, vmax=vmax)  # Use the same vmin and vmax\n",
    "    ax.set_title(title)\n",
    "    ax.axis(\"off\")\n",
    "\n",
    "# Add a single colorbar in the last axis\n",
    "cbar = fig.colorbar(im, cax=axes[-1], orientation=\"vertical\")\n",
    "cbar.set_label(\"Heatmap Intensity\")\n",
    "\n",
    "# Show the plot\n",
    "plt.tight_layout()\n",
    "plt.show()"
   ]
  },
  {
   "cell_type": "code",
   "execution_count": null,
   "id": "9ff800eb",
   "metadata": {},
   "outputs": [],
   "source": [
    "plt.figure(figsize=(20, 20))\n",
    "plt.imshow(thumbnail)"
   ]
  },
  {
   "cell_type": "code",
   "execution_count": null,
   "id": "090d664a",
   "metadata": {},
   "outputs": [],
   "source": [
    "def plot_heatmaps_with_thumbnail(heatmaps, thumbnail, wsi_id, tumor_hist_type, label_map):\n",
    "    # Normalize all heatmaps to the same scale\n",
    "    vmin = np.min(heatmaps)\n",
    "    vmax = np.max(heatmaps)\n",
    "    num_classes = heatmaps.shape[2]\n",
    "\n",
    "    # Create a figure with a grid layout\n",
    "    fig = plt.figure(figsize=(15, 15))  # Adjusted height to accommodate the large thumbnail\n",
    "    grid = plt.GridSpec(2, num_classes + 1, height_ratios=[1, 2], hspace=0.3, wspace=0.3)\n",
    "\n",
    "    # Plot heatmaps in the first row\n",
    "    heatmaps_list = [heatmaps[:, :, i] for i in range(heatmaps.shape[2])]\n",
    "    titles = list(label_map.keys())\n",
    "\n",
    "    for i, (heatmap, title) in enumerate(zip(heatmaps_list, titles)):\n",
    "        ax = fig.add_subplot(grid[0, i])\n",
    "        im = ax.imshow(heatmap.squeeze(), cmap=\"jet\", vmin=vmin, vmax=vmax)\n",
    "        ax.set_title(title, fontsize=10)\n",
    "        ax.axis(\"off\")\n",
    "\n",
    "    # Add a single colorbar in the last column of the first row\n",
    "    cbar_ax = fig.add_subplot(grid[0, -1])\n",
    "    cbar = fig.colorbar(im, cax=cbar_ax, orientation=\"vertical\")\n",
    "    cbar.set_label(\"Heatmap Intensity\", fontsize=10)\n",
    "\n",
    "    # Plot the thumbnail in the second row spanning all columns\n",
    "    thumbnail_ax = fig.add_subplot(grid[1, :])\n",
    "    thumbnail_ax.imshow(thumbnail)\n",
    "    thumbnail_ax.set_title(\"Thumbnail\", fontsize=12)\n",
    "    thumbnail_ax.axis(\"off\")\n",
    "\n",
    "    # Add a main title\n",
    "    plt.suptitle(f\"Heatmaps for WSI {wsi_id} with {tumor_hist_type} Tumor Type\", fontsize=16)\n",
    "\n",
    "    # Show the plot\n",
    "    plt.show()"
   ]
  },
  {
   "cell_type": "code",
   "execution_count": null,
   "id": "6296b1b5",
   "metadata": {},
   "outputs": [],
   "source": [
    "plot_heatmaps_with_thumbnail(heatmaps, thumbnail, wsi_id, tumor_hist_type, label_map)"
   ]
  },
  {
   "cell_type": "code",
   "execution_count": null,
   "id": "dfe2af3f",
   "metadata": {},
   "outputs": [],
   "source": []
  }
 ],
 "metadata": {
  "kernelspec": {
   "display_name": "torchpl",
   "language": "python",
   "name": "python3"
  },
  "language_info": {
   "codemirror_mode": {
    "name": "ipython",
    "version": 3
   },
   "file_extension": ".py",
   "mimetype": "text/x-python",
   "name": "python",
   "nbconvert_exporter": "python",
   "pygments_lexer": "ipython3",
   "version": "3.11.11"
  }
 },
 "nbformat": 4,
 "nbformat_minor": 5
}
