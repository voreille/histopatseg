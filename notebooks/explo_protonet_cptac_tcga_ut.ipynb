{
 "cells": [
  {
   "cell_type": "code",
   "execution_count": null,
   "id": "bebae771",
   "metadata": {},
   "outputs": [],
   "source": [
    "from pathlib import Path\n",
    "\n",
    "import h5py\n",
    "import pandas as pd\n",
    "from openslide import OpenSlide\n",
    "import numpy as np\n",
    "import matplotlib.pyplot as plt\n",
    "import torchvision\n",
    "import torch\n",
    "import cv2\n",
    "from torch.nn.functional import normalize\n",
    "from PIL import Image\n",
    "from histopreprocessing.features.foundation_models import load_model\n",
    "\n",
    "from histopatseg.fewshot.protonet import ProtoNet, prototype_topk_vote\n",
    "from histopatseg.fewshot.extract_patch_features import extract_patch_features_from_dataloader\n",
    "from histopatseg.data.compute_embeddings_tcga_ut import load_hdf5\n"
   ]
  },
  {
   "cell_type": "code",
   "execution_count": null,
   "id": "9196208c",
   "metadata": {},
   "outputs": [],
   "source": [
    "# label_map = {\"Lung_adenocarcinoma\": 0,\"Lung_squamous_cell_carcinoma\": 1, \"Lung_squamous_cell_\":1}\n",
    "label_map = {\"Lung_adenocarcinoma\": 0,\"Lung_squamous_cell_carcinoma\": 1}"
   ]
  },
  {
   "cell_type": "code",
   "execution_count": null,
   "id": "fa33bd56",
   "metadata": {},
   "outputs": [],
   "source": [
    "hdf5_attributes = load_hdf5(\"../data/processed/embeddings/tcga_ut/UNI2_precentercrop.h5\")"
   ]
  },
  {
   "cell_type": "code",
   "execution_count": null,
   "id": "3e2c18dd",
   "metadata": {},
   "outputs": [],
   "source": [
    "hdf5_attributes.keys()"
   ]
  },
  {
   "cell_type": "code",
   "execution_count": null,
   "id": "a7a53f15",
   "metadata": {},
   "outputs": [],
   "source": [
    "print(hdf5_attributes[\"global_attributes\"][\"trainsform\"])"
   ]
  },
  {
   "cell_type": "code",
   "execution_count": null,
   "id": "6f4052e1",
   "metadata": {},
   "outputs": [],
   "source": [
    "hdf5_attributes[\"datasets\"].keys()"
   ]
  },
  {
   "cell_type": "code",
   "execution_count": null,
   "id": "2806768c",
   "metadata": {},
   "outputs": [],
   "source": [
    "embeddings = hdf5_attributes[\"datasets\"][\"embeddings\"]\n",
    "labels = hdf5_attributes[\"datasets\"][\"labels\"]\n",
    "labels = [label.decode(\"utf-8\") for label in labels]\n",
    "wsi_ids = hdf5_attributes[\"datasets\"][\"wsi_ids\"]\n",
    "wsi_ids = [Path(wsi_id.decode(\"utf-8\")).name for wsi_id in wsi_ids]\n",
    "image_ids = hdf5_attributes[\"datasets\"][\"image_ids\"]\n",
    "image_ids = [image_id.decode(\"utf-8\") for image_id in image_ids]"
   ]
  },
  {
   "cell_type": "code",
   "execution_count": null,
   "id": "d8e6d5ac",
   "metadata": {},
   "outputs": [],
   "source": [
    "metadata_df = pd.DataFrame(\n",
    "    {\n",
    "        \"label\": labels,\n",
    "        \"wsi_id\": wsi_ids,\n",
    "        \"image_ids\": image_ids,\n",
    "        \"mpp\": [float(image_name.split(\"/\")[-1].split(\"_\")[-1]) / 1000 for image_name in image_ids],\n",
    "        \"embeddings\": list(embeddings),  # Add embeddings as a column\n",
    "        \"numeric_label\": [label_map[label] for label in labels],\n",
    "    },\n",
    ").set_index(\"image_ids\")"
   ]
  },
  {
   "cell_type": "code",
   "execution_count": null,
   "id": "3a95dec7",
   "metadata": {},
   "outputs": [],
   "source": [
    "metadata_df[\"mpp\"].unique()"
   ]
  },
  {
   "cell_type": "code",
   "execution_count": null,
   "id": "91fe0034",
   "metadata": {},
   "outputs": [],
   "source": [
    "filtered_df = metadata_df[(metadata_df[\"mpp\"] >= 0.45) & (metadata_df[\"mpp\"] <= 0.55)]\n",
    "filtered_df.shape"
   ]
  },
  {
   "cell_type": "code",
   "execution_count": null,
   "id": "844bf69b",
   "metadata": {},
   "outputs": [],
   "source": [
    "n_wsi = 32"
   ]
  },
  {
   "cell_type": "code",
   "execution_count": null,
   "id": "ff04cb24",
   "metadata": {},
   "outputs": [],
   "source": [
    "# Initialize an empty list to store the selected rows\n",
    "selected_rows = []\n",
    "\n",
    "# Group by class labels\n",
    "for label, group in filtered_df.groupby(\"label\"):\n",
    "    # Get unique WSI IDs for the current class\n",
    "    unique_wsi_ids = group[\"wsi_id\"].unique()\n",
    "    \n",
    "    # Randomly shuffle the WSI IDs\n",
    "    np.random.shuffle(unique_wsi_ids)\n",
    "    print(f\"label: {label}, n_wsi: {len(unique_wsi_ids)}\")\n",
    "    \n",
    "    # Select up to n_wsi WSI IDs\n",
    "    selected_wsi_ids = unique_wsi_ids[:n_wsi]\n",
    "    \n",
    "    # Filter rows corresponding to the selected WSI IDs\n",
    "    selected_rows.append(group[group[\"wsi_id\"].isin(selected_wsi_ids)])\n",
    "\n",
    "# Concatenate the selected rows into a single DataFrame\n",
    "result_df = pd.concat(selected_rows)"
   ]
  },
  {
   "cell_type": "code",
   "execution_count": null,
   "id": "b194a301",
   "metadata": {},
   "outputs": [],
   "source": [
    "result_df[\"wsi_id\"].nunique(), result_df[\"label\"].nunique(), result_df.shape[0]"
   ]
  },
  {
   "cell_type": "code",
   "execution_count": null,
   "id": "9f1f9ab2",
   "metadata": {},
   "outputs": [],
   "source": [
    "# Extract embeddings and labels\n",
    "embeddings_train = np.stack(result_df[\"embeddings\"].values)\n",
    "labels_train = result_df[\"numeric_label\"].values\n"
   ]
  },
  {
   "cell_type": "code",
   "execution_count": null,
   "id": "05a0ea95",
   "metadata": {},
   "outputs": [],
   "source": [
    "protonet = ProtoNet()\n",
    "protonet.fit(\n",
    "    torch.tensor(embeddings_train, dtype=torch.float32),\n",
    "    torch.tensor(labels_train, dtype=torch.long),\n",
    ")"
   ]
  },
  {
   "cell_type": "code",
   "execution_count": null,
   "id": "f8fbaff9",
   "metadata": {},
   "outputs": [],
   "source": [
    "wsi_id = \"C3N-00167-21\""
   ]
  },
  {
   "cell_type": "code",
   "execution_count": null,
   "id": "8df9e01b",
   "metadata": {},
   "outputs": [],
   "source": [
    "metadata = pd.read_csv(\"/mnt/nas6/data/CPTAC/TCIA_CPTAC_LUAD_Pathology_Data_Table.csv\").set_index(\"Slide_ID\")"
   ]
  },
  {
   "cell_type": "code",
   "execution_count": null,
   "id": "71df013e",
   "metadata": {},
   "outputs": [],
   "source": [
    "print(f\"Specimen Type: {metadata.loc[wsi_id, 'Specimen_Type']}\")\n",
    "print(f\"Tumor Histological Type: {metadata.loc[wsi_id, 'Tumor_Histological_Type']}\")"
   ]
  },
  {
   "cell_type": "code",
   "execution_count": null,
   "id": "6c690058",
   "metadata": {},
   "outputs": [],
   "source": [
    "# result = load_hdf5(f\"/home/valentin/workspaces/histopatseg/data/processed/embeddings/UNI2/cptac_luad/{wsi_id}.h5\")\n",
    "# print(f\"Base Magnification: {result['global_attributes']['base_magnification']}\")\n",
    "# print(f\"Tile Magnification: {result['global_attributes']['tile_magnification']}\")"
   ]
  },
  {
   "cell_type": "code",
   "execution_count": null,
   "id": "de9b9c19",
   "metadata": {},
   "outputs": [],
   "source": [
    "result = load_hdf5(f\"../data/processed/mahmoodlab/UNI2-h_features/CPTAC/{wsi_id}.h5\")"
   ]
  },
  {
   "cell_type": "code",
   "execution_count": null,
   "id": "408113c4",
   "metadata": {},
   "outputs": [],
   "source": [
    "wsi = OpenSlide(f\"/mnt/nas6/data/CPTAC/CPTAC-LUAD_v12/LUAD/{wsi_id}.svs\")"
   ]
  },
  {
   "cell_type": "code",
   "execution_count": null,
   "id": "19fd314e",
   "metadata": {},
   "outputs": [],
   "source": [
    "print(f\"mpp x : {wsi.properties.get('openslide.mpp-x', 'nan')}\")\n",
    "print(f\"mpp y : {wsi.properties.get('openslide.mpp-y', 'nan')}\")"
   ]
  },
  {
   "cell_type": "code",
   "execution_count": null,
   "id": "955c5ca3",
   "metadata": {},
   "outputs": [],
   "source": [
    "result[\"datasets\"].keys()"
   ]
  },
  {
   "cell_type": "code",
   "execution_count": null,
   "id": "2f8d1be6",
   "metadata": {},
   "outputs": [],
   "source": [
    "result[\"datasets\"][\"coords\"][:].shape"
   ]
  },
  {
   "cell_type": "code",
   "execution_count": null,
   "id": "23eb1d3f",
   "metadata": {},
   "outputs": [],
   "source": [
    "# embeddings = result[\"datasets\"][\"embeddings\"]\n",
    "# coordinates = result[\"datasets\"][\"coordinates\"]\n",
    "embeddings = np.squeeze(result[\"datasets\"][\"features\"])\n",
    "coordinates = np.squeeze(result[\"datasets\"][\"coords\"])"
   ]
  },
  {
   "cell_type": "code",
   "execution_count": null,
   "id": "34f90da8",
   "metadata": {},
   "outputs": [],
   "source": [
    "coordinates[1,:] - coordinates[0,:]"
   ]
  },
  {
   "cell_type": "code",
   "execution_count": null,
   "id": "3d4ee383",
   "metadata": {},
   "outputs": [],
   "source": [
    "coordinates.shape, embeddings.shape"
   ]
  },
  {
   "cell_type": "code",
   "execution_count": null,
   "id": "9b8a02d2",
   "metadata": {},
   "outputs": [],
   "source": [
    "def compute_distances(embeddings, prototype_embeddings, mean_embedding):\n",
    "    \"\"\"\n",
    "    Compute the similarity between an embedding and a prototype.\n",
    "    \"\"\"\n",
    "    # Normalize the vectors\n",
    "    \n",
    "    feats_query = embeddings\n",
    "    feats_query = feats_query - mean_embedding\n",
    "    feats_query = normalize(feats_query, dim=-1, p=2)\n",
    "    feats_query = feats_query[:, None]  # [N x 1 x D]\n",
    "    proto_embeddings = prototype_embeddings[None, :]  # [1 x C x D]\n",
    "    pw_dist = (feats_query - proto_embeddings).norm(\n",
    "            dim=-1, p=2\n",
    "    )  # [N x C ]\n",
    "    \n",
    "    \n",
    "    return pw_dist"
   ]
  },
  {
   "cell_type": "code",
   "execution_count": null,
   "id": "988762fb",
   "metadata": {},
   "outputs": [],
   "source": [
    "distances = compute_distances(torch.tensor(embeddings, dtype=torch.float32), protonet.prototype_embeddings, protonet.mean).numpy()"
   ]
  },
  {
   "cell_type": "code",
   "execution_count": null,
   "id": "ca485bef",
   "metadata": {},
   "outputs": [],
   "source": [
    "prototype_topk_vote(protonet, torch.tensor(embeddings, dtype=torch.float32), topk=5)"
   ]
  },
  {
   "cell_type": "code",
   "execution_count": null,
   "id": "666364ce",
   "metadata": {},
   "outputs": [],
   "source": [
    "distances.shape"
   ]
  },
  {
   "cell_type": "code",
   "execution_count": null,
   "id": "129de1dc",
   "metadata": {},
   "outputs": [],
   "source": [
    "wsi.level_dimensions[0]"
   ]
  },
  {
   "cell_type": "code",
   "execution_count": null,
   "id": "a6bb4495",
   "metadata": {},
   "outputs": [],
   "source": [
    "wsi.level_dimensions[0][0] / wsi.level_dimensions[-1][0] "
   ]
  },
  {
   "cell_type": "code",
   "execution_count": null,
   "id": "0bb398e6",
   "metadata": {},
   "outputs": [],
   "source": [
    "def compute_heatmap_optimized(wsi, coordinates, scores, tile_size=224, tile_level=0, rescale=False):\n",
    "\n",
    "    downsample_to_base = wsi.level_downsamples[tile_level]  # From scores_level to level 0\n",
    "\n",
    "    wsi_dimensions = wsi.level_dimensions[0]\n",
    "    downsample = downsample_to_base * tile_size\n",
    "    heatmap_height = np.round(wsi_dimensions[0] / downsample).astype(int)\n",
    "    heatmap_width = np.round(wsi_dimensions[1] / downsample).astype(int)\n",
    "    heatmap = np.zeros((heatmap_width, heatmap_height), dtype=np.float32)  # Shape should be (height, width)\n",
    "\n",
    "    # Rescale scores if needed\n",
    "    if rescale:\n",
    "        scores = (2 * scores - np.min(scores) - np.max(scores)) / (np.max(scores) - np.min(scores))\n",
    "\n",
    "    # Populate the heatmap\n",
    "    for i, (x, y) in enumerate(coordinates):\n",
    "        grid_x = np.round(x / downsample).astype(int)\n",
    "        grid_y = np.round(y / downsample).astype(int)\n",
    "        heatmap[grid_y, grid_x] = scores[i]\n",
    "\n",
    "    # Upscale the heatmap to match the thumbnail size\n",
    "    thumbnail_size = wsi.level_dimensions[-1]  # (height, width)\n",
    "    heatmap_upscaled = cv2.resize(heatmap, thumbnail_size, interpolation=cv2.INTER_LINEAR)\n",
    "    thumbnail = wsi.get_thumbnail(thumbnail_size)\n",
    "\n",
    "    return heatmap_upscaled, thumbnail"
   ]
  },
  {
   "cell_type": "code",
   "execution_count": null,
   "id": "122a1691",
   "metadata": {},
   "outputs": [],
   "source": [
    "heatmap, thumbnail = compute_heatmap_optimized(wsi, coordinates, -distances[:, 0], tile_size=256, tile_level=0, rescale=True)"
   ]
  },
  {
   "cell_type": "code",
   "execution_count": null,
   "id": "b2811102",
   "metadata": {},
   "outputs": [],
   "source": [
    "# Ensure the heatmap and thumbnail are the same size\n",
    "heatmap_rescaled = Image.fromarray((heatmap * 255).astype(np.uint8)).resize(thumbnail.size, Image.BICUBIC)\n",
    "\n",
    "# Convert the heatmap to RGBA for transparency\n",
    "heatmap_rgba = heatmap_rescaled.convert(\"RGBA\")\n",
    "heatmap_array = np.array(heatmap_rgba)\n",
    "heatmap_array[..., 3] = (heatmap_array[..., 0] * 0.5).astype(np.uint8)  # Adjust alpha for transparency\n",
    "heatmap_rgba = Image.fromarray(heatmap_array)\n",
    "\n",
    "# Overlay the heatmap on the thumbnail\n",
    "overlay = Image.alpha_composite(thumbnail.convert(\"RGBA\"), heatmap_rgba)\n",
    "\n",
    "# Display the result\n",
    "plt.figure(figsize=(10, 10))\n",
    "plt.imshow(overlay)\n",
    "plt.axis(\"off\")\n",
    "plt.show()"
   ]
  },
  {
   "cell_type": "code",
   "execution_count": null,
   "id": "3656c64c",
   "metadata": {},
   "outputs": [],
   "source": [
    "plt.figure(figsize=(20, 20))\n",
    "plt.imshow(heatmap, cmap=\"bwr\")\n",
    "plt.colorbar()"
   ]
  },
  {
   "cell_type": "code",
   "execution_count": null,
   "id": "20a8fc91",
   "metadata": {},
   "outputs": [],
   "source": [
    "plt.figure(figsize=(20, 20))\n",
    "plt.imshow(thumbnail)"
   ]
  },
  {
   "cell_type": "code",
   "execution_count": null,
   "id": "5a6bd39d",
   "metadata": {},
   "outputs": [],
   "source": []
  }
 ],
 "metadata": {
  "kernelspec": {
   "display_name": "torchpl",
   "language": "python",
   "name": "python3"
  },
  "language_info": {
   "codemirror_mode": {
    "name": "ipython",
    "version": 3
   },
   "file_extension": ".py",
   "mimetype": "text/x-python",
   "name": "python",
   "nbconvert_exporter": "python",
   "pygments_lexer": "ipython3",
   "version": "3.11.0"
  }
 },
 "nbformat": 4,
 "nbformat_minor": 5
}
