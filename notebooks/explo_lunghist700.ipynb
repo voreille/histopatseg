{
 "cells": [
  {
   "cell_type": "code",
   "execution_count": 3,
   "metadata": {},
   "outputs": [
    {
     "data": {
      "text/plain": [
       "True"
      ]
     },
     "execution_count": 3,
     "metadata": {},
     "output_type": "execute_result"
    }
   ],
   "source": [
    "import os\n",
    "from pathlib import Path\n",
    "\n",
    "from dotenv import load_dotenv\n",
    "import pandas as pd\n",
    "\n",
    "load_dotenv()\n"
   ]
  },
  {
   "cell_type": "code",
   "execution_count": 7,
   "metadata": {},
   "outputs": [],
   "source": [
    "magnification = 10\n",
    "\n",
    "data_path = Path(os.getenv(\"LUNGHIST700_PATH\"))\n",
    "metadata = pd.read_csv(\n",
    "        data_path /\n",
    "        f\"LungHist700_{magnification}x/metadata.csv\").set_index(\"tile_id\")"
   ]
  },
  {
   "cell_type": "code",
   "execution_count": 8,
   "metadata": {},
   "outputs": [
    {
     "data": {
      "text/html": [
       "<div>\n",
       "<style scoped>\n",
       "    .dataframe tbody tr th:only-of-type {\n",
       "        vertical-align: middle;\n",
       "    }\n",
       "\n",
       "    .dataframe tbody tr th {\n",
       "        vertical-align: top;\n",
       "    }\n",
       "\n",
       "    .dataframe thead th {\n",
       "        text-align: right;\n",
       "    }\n",
       "</style>\n",
       "<table border=\"1\" class=\"dataframe\">\n",
       "  <thead>\n",
       "    <tr style=\"text-align: right;\">\n",
       "      <th></th>\n",
       "      <th>patient_id</th>\n",
       "      <th>superclass</th>\n",
       "      <th>subclass</th>\n",
       "      <th>resolution</th>\n",
       "      <th>image_id</th>\n",
       "      <th>class_name</th>\n",
       "      <th>label</th>\n",
       "      <th>original_filename</th>\n",
       "      <th>tile_path</th>\n",
       "    </tr>\n",
       "    <tr>\n",
       "      <th>tile_id</th>\n",
       "      <th></th>\n",
       "      <th></th>\n",
       "      <th></th>\n",
       "      <th></th>\n",
       "      <th></th>\n",
       "      <th></th>\n",
       "      <th></th>\n",
       "      <th></th>\n",
       "      <th></th>\n",
       "    </tr>\n",
       "  </thead>\n",
       "  <tbody>\n",
       "    <tr>\n",
       "      <th>scc_bd_20x_39_tile_0_1</th>\n",
       "      <td>25</td>\n",
       "      <td>scc</td>\n",
       "      <td>bd</td>\n",
       "      <td>20x</td>\n",
       "      <td>39</td>\n",
       "      <td>scc_bd</td>\n",
       "      <td>4</td>\n",
       "      <td>scc_bd_20x_39</td>\n",
       "      <td>/home/valentin/workspaces/histolung/data/proce...</td>\n",
       "    </tr>\n",
       "    <tr>\n",
       "      <th>scc_bd_20x_63_tile_1_1</th>\n",
       "      <td>27</td>\n",
       "      <td>scc</td>\n",
       "      <td>bd</td>\n",
       "      <td>20x</td>\n",
       "      <td>63</td>\n",
       "      <td>scc_bd</td>\n",
       "      <td>4</td>\n",
       "      <td>scc_bd_20x_63</td>\n",
       "      <td>/home/valentin/workspaces/histolung/data/proce...</td>\n",
       "    </tr>\n",
       "    <tr>\n",
       "      <th>nor_20x_69_tile_0_0</th>\n",
       "      <td>42</td>\n",
       "      <td>nor</td>\n",
       "      <td>NaN</td>\n",
       "      <td>20x</td>\n",
       "      <td>69</td>\n",
       "      <td>nor</td>\n",
       "      <td>3</td>\n",
       "      <td>nor_20x_69</td>\n",
       "      <td>/home/valentin/workspaces/histolung/data/proce...</td>\n",
       "    </tr>\n",
       "    <tr>\n",
       "      <th>aca_bd_40x_64_tile_0_1</th>\n",
       "      <td>9</td>\n",
       "      <td>aca</td>\n",
       "      <td>bd</td>\n",
       "      <td>40x</td>\n",
       "      <td>64</td>\n",
       "      <td>aca_bd</td>\n",
       "      <td>0</td>\n",
       "      <td>aca_bd_40x_64</td>\n",
       "      <td>/home/valentin/workspaces/histolung/data/proce...</td>\n",
       "    </tr>\n",
       "    <tr>\n",
       "      <th>aca_pd_40x_70_tile_0_1</th>\n",
       "      <td>18</td>\n",
       "      <td>aca</td>\n",
       "      <td>pd</td>\n",
       "      <td>40x</td>\n",
       "      <td>70</td>\n",
       "      <td>aca_pd</td>\n",
       "      <td>2</td>\n",
       "      <td>aca_pd_40x_70</td>\n",
       "      <td>/home/valentin/workspaces/histolung/data/proce...</td>\n",
       "    </tr>\n",
       "  </tbody>\n",
       "</table>\n",
       "</div>"
      ],
      "text/plain": [
       "                        patient_id superclass subclass resolution  image_id  \\\n",
       "tile_id                                                                       \n",
       "scc_bd_20x_39_tile_0_1          25        scc       bd        20x        39   \n",
       "scc_bd_20x_63_tile_1_1          27        scc       bd        20x        63   \n",
       "nor_20x_69_tile_0_0             42        nor      NaN        20x        69   \n",
       "aca_bd_40x_64_tile_0_1           9        aca       bd        40x        64   \n",
       "aca_pd_40x_70_tile_0_1          18        aca       pd        40x        70   \n",
       "\n",
       "                       class_name  label original_filename  \\\n",
       "tile_id                                                      \n",
       "scc_bd_20x_39_tile_0_1     scc_bd      4     scc_bd_20x_39   \n",
       "scc_bd_20x_63_tile_1_1     scc_bd      4     scc_bd_20x_63   \n",
       "nor_20x_69_tile_0_0           nor      3        nor_20x_69   \n",
       "aca_bd_40x_64_tile_0_1     aca_bd      0     aca_bd_40x_64   \n",
       "aca_pd_40x_70_tile_0_1     aca_pd      2     aca_pd_40x_70   \n",
       "\n",
       "                                                                tile_path  \n",
       "tile_id                                                                    \n",
       "scc_bd_20x_39_tile_0_1  /home/valentin/workspaces/histolung/data/proce...  \n",
       "scc_bd_20x_63_tile_1_1  /home/valentin/workspaces/histolung/data/proce...  \n",
       "nor_20x_69_tile_0_0     /home/valentin/workspaces/histolung/data/proce...  \n",
       "aca_bd_40x_64_tile_0_1  /home/valentin/workspaces/histolung/data/proce...  \n",
       "aca_pd_40x_70_tile_0_1  /home/valentin/workspaces/histolung/data/proce...  "
      ]
     },
     "execution_count": 8,
     "metadata": {},
     "output_type": "execute_result"
    }
   ],
   "source": [
    "metadata.head()"
   ]
  },
  {
   "cell_type": "code",
   "execution_count": 9,
   "metadata": {},
   "outputs": [
    {
     "name": "stdout",
     "output_type": "stream",
     "text": [
      "Counts per class:\n",
      "class_name\n",
      "nor       1284\n",
      "aca_bd     868\n",
      "scc_bd     796\n",
      "scc_pd     764\n",
      "aca_md     712\n",
      "aca_pd     708\n",
      "scc_md     504\n",
      "Name: count, dtype: int64\n",
      "\n",
      "Ratios per class:\n",
      "class_name\n",
      "nor       0.227821\n",
      "aca_bd    0.154010\n",
      "scc_bd    0.141235\n",
      "scc_pd    0.135557\n",
      "aca_md    0.126331\n",
      "aca_pd    0.125621\n",
      "scc_md    0.089425\n",
      "Name: proportion, dtype: float64\n"
     ]
    }
   ],
   "source": [
    "# Count how many tiles per class\n",
    "class_counts = metadata['class_name'].value_counts()\n",
    "print(\"Counts per class:\")\n",
    "print(class_counts)\n",
    "\n",
    "# Compute the ratio by dividing by the total number of rows\n",
    "class_ratios = metadata['class_name'].value_counts(normalize=True)\n",
    "print(\"\\nRatios per class:\")\n",
    "print(class_ratios)"
   ]
  },
  {
   "cell_type": "code",
   "execution_count": null,
   "metadata": {},
   "outputs": [],
   "source": []
  },
  {
   "cell_type": "code",
   "execution_count": null,
   "metadata": {},
   "outputs": [],
   "source": []
  }
 ],
 "metadata": {
  "kernelspec": {
   "display_name": "torchpl",
   "language": "python",
   "name": "python3"
  },
  "language_info": {
   "codemirror_mode": {
    "name": "ipython",
    "version": 3
   },
   "file_extension": ".py",
   "mimetype": "text/x-python",
   "name": "python",
   "nbconvert_exporter": "python",
   "pygments_lexer": "ipython3",
   "version": "3.11.0"
  }
 },
 "nbformat": 4,
 "nbformat_minor": 2
}
