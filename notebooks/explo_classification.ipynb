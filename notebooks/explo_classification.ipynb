{
 "cells": [
  {
   "cell_type": "code",
   "execution_count": null,
   "metadata": {},
   "outputs": [],
   "source": [
    "import os\n",
    "from pathlib import Path\n",
    "\n",
    "from dotenv import load_dotenv\n",
    "import pandas as pd\n",
    "import umap\n",
    "import numpy as np\n",
    "import matplotlib.pyplot as plt\n",
    "from sklearn.model_selection import StratifiedGroupKFold\n",
    "from sklearn.neighbors import KNeighborsClassifier\n",
    "from sklearn.linear_model import LogisticRegression\n",
    "from sklearn.pipeline import Pipeline\n",
    "from sklearn.preprocessing import StandardScaler\n",
    "from sklearn.metrics import accuracy_score, confusion_matrix, ConfusionMatrixDisplay\n",
    "\n",
    "from histopatseg.constants import CLASS_MAPPING, SUPERCLASS_MAPPING, SUBCLASS_MAPPING\n",
    "\n",
    "load_dotenv()\n"
   ]
  },
  {
   "cell_type": "code",
   "execution_count": null,
   "metadata": {},
   "outputs": [],
   "source": [
    "magnification = 10\n",
    "data_path = Path(os.getenv(\"LUNGHIST700_PATH\"))\n",
    "metadata = pd.read_csv(\n",
    "    data_path /\n",
    "    f\"LungHist700_{magnification}x/metadata.csv\").set_index(\"tile_id\").drop(columns=[\"image_id\"])\n",
    "\n",
    "embeddings_path = Path(\n",
    "    f\"/home/valentin/workspaces/histopatseg/data/processed/LungHist700_embeddings/UNI2_{magnification}x.npz\"\n",
    "    # f\"/home/valentin/workspaces/histopatseg/data/processed/LungHist700_embeddings/convnext_large_{magnification}x.npz\"\n",
    "    # f\"/home/valentin/workspaces/histopatseg/data/processed/LungHist700_embeddings/bioptimus_{magnification}x.npz\"\n",
    ")"
   ]
  },
  {
   "cell_type": "code",
   "execution_count": null,
   "metadata": {},
   "outputs": [],
   "source": [
    "with np.load(embeddings_path) as data:\n",
    "    embeddings = data[\"embeddings\"]\n",
    "    tile_ids = data[\"tile_ids\"]\n",
    "    embedding_dim = data[\"embedding_dim\"]\n"
   ]
  },
  {
   "cell_type": "code",
   "execution_count": null,
   "metadata": {},
   "outputs": [],
   "source": [
    "embeddings.shape"
   ]
  },
  {
   "cell_type": "code",
   "execution_count": null,
   "metadata": {},
   "outputs": [],
   "source": [
    "def aggregate_embeddings(embeddings, tile_ids, metadata):\n",
    "\n",
    "    df = pd.DataFrame(embeddings)\n",
    "    df[\"image_id\"] = metadata.loc[tile_ids][\"original_filename\"].to_list()\n",
    "\n",
    "    aggregated_df = df.groupby(\"image_id\").mean()\n",
    "    image_ids = list(aggregated_df.index)\n",
    "\n",
    "    grouped_metadata = metadata.groupby(\"original_filename\").agg(\n",
    "        {key: \"first\"\n",
    "         for key in metadata.columns})\n",
    "\n",
    "    return aggregated_df, grouped_metadata.loc[image_ids]"
   ]
  },
  {
   "cell_type": "code",
   "execution_count": null,
   "metadata": {},
   "outputs": [],
   "source": [
    "embeddings_df, metadata_aggregated = aggregate_embeddings(embeddings, tile_ids, metadata)"
   ]
  },
  {
   "cell_type": "code",
   "execution_count": null,
   "metadata": {},
   "outputs": [],
   "source": [
    "metadata_aggregated.head()"
   ]
  },
  {
   "cell_type": "code",
   "execution_count": null,
   "metadata": {},
   "outputs": [],
   "source": [
    "embeddings_df = embeddings_df.loc[metadata_aggregated[metadata_aggregated[\"superclass\"] == \"aca\"].index]\n",
    "patient_ids = metadata_aggregated[metadata_aggregated[\"superclass\"] == \"aca\"][\"patient_id\"].values\n",
    "# patient_ids = metadata_aggregated[\"patient_id\"].values\n",
    "labels = metadata_aggregated[metadata_aggregated[\"superclass\"] == \"aca\"][\"subclass\"].values\n",
    "# labels = metadata_aggregated[\"class_name\"].values\n",
    "labels_mapped = np.array([SUBCLASS_MAPPING[label] for label in labels])\n",
    "# labels_mapped = np.array([CLASS_MAPPING[label] for label in labels])"
   ]
  },
  {
   "cell_type": "code",
   "execution_count": null,
   "metadata": {},
   "outputs": [],
   "source": [
    "class_name_labels = metadata_aggregated[metadata_aggregated[\"superclass\"] == \"aca\"][\"class_name\"].values\n",
    "np.unique(class_name_labels)"
   ]
  },
  {
   "cell_type": "code",
   "execution_count": null,
   "metadata": {},
   "outputs": [],
   "source": [
    "embeddings_df.shape"
   ]
  },
  {
   "cell_type": "code",
   "execution_count": null,
   "metadata": {},
   "outputs": [],
   "source": [
    "cv_splitter = StratifiedGroupKFold(n_splits=5, shuffle=True, random_state=42)\n",
    "knn_classifier = Pipeline([\n",
    "    (\"scaler\", StandardScaler()),\n",
    "    (\"classifier\", KNeighborsClassifier(n_neighbors=2)),\n",
    "    # (\"classifier\", LogisticRegression(max_iter=1000)),\n",
    "])\n"
   ]
  },
  {
   "cell_type": "code",
   "execution_count": null,
   "metadata": {},
   "outputs": [],
   "source": [
    "all_predictions = []\n",
    "all_true_labels = []\n",
    "accuracies = []\n",
    "\n",
    "for fold, (train_idx, test_idx) in enumerate(cv_splitter.split(embeddings_df, labels_mapped, groups=patient_ids)):\n",
    "    assert set(patient_ids[train_idx]).isdisjoint(set(patient_ids[test_idx]))\n",
    "    X_train, X_test = embeddings[train_idx], embeddings[test_idx]\n",
    "    y_train, y_test = labels_mapped[train_idx], labels_mapped[test_idx]\n",
    "\n",
    "    knn_classifier.fit(X_train, y_train)\n",
    "    y_pred = knn_classifier.predict(X_test)\n",
    "\n",
    "    all_predictions.extend(y_pred)\n",
    "    all_true_labels.extend(y_test)\n",
    "    fold_accuracy = (y_pred == y_test).mean()\n",
    "    accuracies.append(fold_accuracy)\n",
    "\n",
    "    print(f\"k-NN - Fold {fold + 1}: Accuracy = {fold_accuracy:.4f}\")\n",
    "\n",
    "concatenated_accuracy = accuracy_score(all_true_labels, all_predictions)\n",
    "conf_matrix = confusion_matrix(all_true_labels, all_predictions)"
   ]
  },
  {
   "cell_type": "code",
   "execution_count": null,
   "metadata": {},
   "outputs": [],
   "source": []
  }
 ],
 "metadata": {
  "kernelspec": {
   "display_name": "torchpl",
   "language": "python",
   "name": "python3"
  },
  "language_info": {
   "codemirror_mode": {
    "name": "ipython",
    "version": 3
   },
   "file_extension": ".py",
   "mimetype": "text/x-python",
   "name": "python",
   "nbconvert_exporter": "python",
   "pygments_lexer": "ipython3",
   "version": "3.11.0"
  }
 },
 "nbformat": 4,
 "nbformat_minor": 2
}
