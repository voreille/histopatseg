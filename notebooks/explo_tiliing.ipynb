{
 "cells": [
  {
   "cell_type": "code",
   "execution_count": null,
   "metadata": {},
   "outputs": [],
   "source": [
    "from PIL import Image\n",
    "from torchvision import transforms\n",
    "\n",
    "from histopatseg.models.mil_complete import MILModel\n",
    "from histopatseg.models.models import load_model\n",
    "from histopatseg.utils import get_device\n"
   ]
  },
  {
   "cell_type": "code",
   "execution_count": null,
   "metadata": {},
   "outputs": [],
   "source": [
    "device = get_device(0)\n",
    "feature_extractor, transform_fe, embedding_dim, autocast_dtype = load_model(\"UNI2\", device)"
   ]
  },
  {
   "cell_type": "code",
   "execution_count": null,
   "metadata": {},
   "outputs": [],
   "source": [
    "transform = transforms.Compose([\n",
    "            transforms.ToTensor(),\n",
    "            transforms.Normalize(mean=(0.707223, 0.578729, 0.703617),\n",
    "                                 std=(0.211883, 0.230117, 0.177517)),\n",
    "        ])"
   ]
  },
  {
   "cell_type": "code",
   "execution_count": null,
   "metadata": {},
   "outputs": [],
   "source": [
    "model = MILModel(embedding_dim, feature_extractor=feature_extractor)"
   ]
  },
  {
   "cell_type": "code",
   "execution_count": null,
   "metadata": {},
   "outputs": [],
   "source": [
    "image = Image.open(\"/home/valentin/workspaces/histopatseg/data/processed/LungHist700/LungHist700_20x/nor_20x_24.png\").convert(\"RGB\")\n",
    "image = transform(image)"
   ]
  },
  {
   "cell_type": "code",
   "execution_count": null,
   "metadata": {},
   "outputs": [],
   "source": [
    "image.shape"
   ]
  },
  {
   "cell_type": "code",
   "execution_count": null,
   "metadata": {},
   "outputs": [],
   "source": [
    "tiles = model.tile_image(image)"
   ]
  },
  {
   "cell_type": "code",
   "execution_count": null,
   "metadata": {},
   "outputs": [],
   "source": [
    "tiles.shape"
   ]
  },
  {
   "cell_type": "code",
   "execution_count": null,
   "metadata": {},
   "outputs": [],
   "source": [
    "import torch\n",
    "import matplotlib.pyplot as plt\n",
    "\n",
    "# Define a simple denormalization function\n",
    "def denormalize(tensor, mean, std):\n",
    "    \"\"\"\n",
    "    Denormalize a tensor image using mean and std.\n",
    "    Assumes tensor is (C, H, W).\n",
    "    \"\"\"\n",
    "    # Clone the tensor to avoid modifying the original\n",
    "    tensor = tensor.clone()\n",
    "    for t, m, s in zip(tensor, mean, std):\n",
    "        t.mul_(s).add_(m)\n",
    "    return tensor\n",
    "\n",
    "# Set normalization parameters (as in your transform)\n",
    "mean = torch.tensor([0.707223, 0.578729, 0.703617])\n",
    "std = torch.tensor([0.211883, 0.230117, 0.177517])\n",
    "\n",
    "to_pil = transforms.ToPILImage()\n",
    "\n",
    "n_tiles = tiles.shape[0]\n",
    "cols = min(5, n_tiles)\n",
    "rows = (n_tiles + cols - 1) // cols\n",
    "plt.figure(figsize=(15, 3 * rows))\n",
    "for i, tile in enumerate(tiles):\n",
    "    tile_denorm = denormalize(tile, mean, std)\n",
    "    pil_tile = to_pil(tile_denorm.cpu())\n",
    "    plt.subplot(rows, cols, i + 1)\n",
    "    plt.imshow(pil_tile)\n",
    "    plt.axis(\"off\")\n",
    "plt.show()\n"
   ]
  },
  {
   "cell_type": "code",
   "execution_count": null,
   "metadata": {},
   "outputs": [],
   "source": []
  }
 ],
 "metadata": {
  "kernelspec": {
   "display_name": "torchpl",
   "language": "python",
   "name": "python3"
  },
  "language_info": {
   "codemirror_mode": {
    "name": "ipython",
    "version": 3
   },
   "file_extension": ".py",
   "mimetype": "text/x-python",
   "name": "python",
   "nbconvert_exporter": "python",
   "pygments_lexer": "ipython3",
   "version": "3.11.0"
  }
 },
 "nbformat": 4,
 "nbformat_minor": 2
}
