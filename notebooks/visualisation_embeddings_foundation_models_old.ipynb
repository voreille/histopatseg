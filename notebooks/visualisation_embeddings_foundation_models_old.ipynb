{
 "cells": [
  {
   "cell_type": "code",
   "execution_count": null,
   "id": "19c06a3c",
   "metadata": {},
   "outputs": [],
   "source": [
    "from pathlib import Path\n",
    "\n",
    "import numpy as np\n",
    "import matplotlib.pyplot as plt\n",
    "import pandas as pd\n",
    "import seaborn as sns\n",
    "from sklearn.manifold import TSNE\n",
    "from sklearn.decomposition import PCA\n",
    "import umap\n",
    "\n",
    "from histopatseg.visualization.visualization import plot_embeddings\n",
    "from histopatseg.evaluation.utils import aggregate_tile_embeddings"
   ]
  },
  {
   "cell_type": "code",
   "execution_count": null,
   "id": "6f6807a2",
   "metadata": {},
   "outputs": [],
   "source": [
    "project_dir = Path(\".\").resolve().parent\n",
    "print(f\"Project Directory: {project_dir}\")"
   ]
  },
  {
   "cell_type": "code",
   "execution_count": null,
   "id": "b14d276c",
   "metadata": {},
   "outputs": [],
   "source": [
    "embedding_file = project_dir / \"data/processed/embeddings/lunghist700_20x_UNI2_embeddings.npz\"\n",
    "metadata  = pd.read_csv(project_dir / \"/home/valentin/workspaces/histopatseg/data/processed/LungHist700_tiled/LungHist700_20x/metadata.csv\").set_index(\"tile_id\")\n",
    "metadata.head()"
   ]
  },
  {
   "cell_type": "code",
   "execution_count": null,
   "id": "63036799",
   "metadata": {},
   "outputs": [],
   "source": [
    "# Load the embeddings\n",
    "data = np.load(embedding_file)\n",
    "embeddings = data[\"embeddings\"]\n",
    "tile_ids = data[\"tile_ids\"]\n",
    "embedding_dim = data[\"embedding_dim\"]\n",
    "\n",
    "# Print basic information\n",
    "print(f\"Loaded {len(embeddings)} embeddings with dimensionality {embeddings.shape[1]}\")\n",
    "print(f\"Embedding dimension from model: {embedding_dim}\")"
   ]
  },
  {
   "cell_type": "code",
   "execution_count": null,
   "id": "e95682d0",
   "metadata": {},
   "outputs": [],
   "source": [
    "# Check if all embedding tile_ids are in the metadata index\n",
    "missing_ids = [id for id in tile_ids if id not in metadata.index]\n",
    "if missing_ids:\n",
    "    print(f\"Warning: {len(missing_ids)} tile_ids from embeddings are not in metadata\")\n",
    "    print(f\"First few missing IDs: {missing_ids[:5]}\")\n",
    "aligned_metadata = metadata.reindex(tile_ids)\n",
    "aligned_metadata['subclass'] = aligned_metadata.apply(\n",
    "    lambda row: row['superclass'] if pd.isna(row['subclass']) and row['superclass'] == 'nor' else row['subclass'], \n",
    "    axis=1\n",
    ")"
   ]
  },
  {
   "cell_type": "code",
   "execution_count": null,
   "id": "61f92b70",
   "metadata": {},
   "outputs": [],
   "source": [
    "# Compute t-SNE reduction \n",
    "print(\"Computing t-SNE projection (this may take a few minutes)...\")\n",
    "tsne = TSNE(\n",
    "    n_components=2,          # Output dimensions\n",
    "    perplexity=30,           # Balance between local and global structure\n",
    "    n_iter=1000,             # Maximum number of iterations\n",
    "    random_state=42,         # For reproducibility\n",
    "    init='pca'               # Initialize with PCA (faster and more stable)\n",
    ")\n",
    "tsne_embedding = tsne.fit_transform(embeddings)"
   ]
  },
  {
   "cell_type": "code",
   "execution_count": null,
   "id": "6e5be464",
   "metadata": {},
   "outputs": [],
   "source": [
    "# Plot t-SNE results\n",
    "fig = plot_embeddings(\n",
    "    reduced_data=tsne_embedding,\n",
    "    metadata=aligned_metadata,\n",
    "    color_by='class_name',\n",
    "    method_name='t-SNE',\n",
    "    title='t-SNE Projection of LungHist700 Embeddings without Aggregation',\n",
    "    palette_name='tab10'\n",
    ")\n",
    "plt.show()"
   ]
  },
  {
   "cell_type": "code",
   "execution_count": null,
   "id": "2e313c1b",
   "metadata": {},
   "outputs": [],
   "source": [
    "# Plot t-SNE results\n",
    "fig = plot_embeddings(\n",
    "    reduced_data=tsne_embedding,\n",
    "    metadata=aligned_metadata,\n",
    "    color_by='superclass',\n",
    "    method_name='t-SNE',\n",
    "    title='t-SNE Projection of LungHist700 Embeddings without Aggregation',\n",
    "    palette_name='tab10'\n",
    ")\n",
    "plt.show()"
   ]
  },
  {
   "cell_type": "code",
   "execution_count": null,
   "id": "76d53571",
   "metadata": {},
   "outputs": [],
   "source": [
    "# Plot t-SNE results\n",
    "fig = plot_embeddings(\n",
    "    reduced_data=tsne_embedding,\n",
    "    metadata=aligned_metadata,\n",
    "    color_by='subclass',\n",
    "    method_name='t-SNE',\n",
    "    title='t-SNE Projection of LungHist700 Embeddings without Aggregation',\n",
    "    palette_name='tab10'\n",
    ")\n",
    "plt.show()"
   ]
  },
  {
   "cell_type": "code",
   "execution_count": null,
   "id": "5bb4ac32",
   "metadata": {},
   "outputs": [],
   "source": [
    "# Plot t-SNE results\n",
    "fig = plot_embeddings(\n",
    "    reduced_data=tsne_embedding,\n",
    "    metadata=aligned_metadata,\n",
    "    color_by='resolution',\n",
    "    method_name='t-SNE',\n",
    "    title='t-SNE Projection of LungHist700 Embeddings without Aggregation',\n",
    "    palette_name='tab10'\n",
    ")\n",
    "plt.show()"
   ]
  },
  {
   "cell_type": "code",
   "execution_count": null,
   "id": "03681144",
   "metadata": {},
   "outputs": [],
   "source": [
    "aggregated_embeddings, aggregated_metadata = aggregate_tile_embeddings(\n",
    "    embeddings=embeddings,\n",
    "    tile_ids=tile_ids,\n",
    "    metadata=aligned_metadata,\n",
    "    group_by=\"original_filename\",\n",
    ")"
   ]
  },
  {
   "cell_type": "code",
   "execution_count": null,
   "id": "66b708ab",
   "metadata": {},
   "outputs": [],
   "source": [
    "tsne_aggregated = TSNE(\n",
    "    n_components=2,\n",
    "    perplexity=15,  # Lower perplexity for fewer points\n",
    "    n_iter=1000,\n",
    "    random_state=42,\n",
    "    init='pca'\n",
    ")\n",
    "tsne_embedding = tsne_aggregated.fit_transform(aggregated_embeddings)"
   ]
  },
  {
   "cell_type": "code",
   "execution_count": null,
   "id": "448aeeb5",
   "metadata": {},
   "outputs": [],
   "source": [
    "# Plot t-SNE results\n",
    "fig = plot_embeddings(\n",
    "    reduced_data=tsne_embedding,\n",
    "    metadata=aggregated_metadata,\n",
    "    color_by='class_name',\n",
    "    method_name='t-SNE',\n",
    "    title='t-SNE Projection of LungHist700 Embeddings with Aggregation by Original File',\n",
    "    palette_name='tab10'\n",
    ")\n",
    "plt.show()"
   ]
  },
  {
   "cell_type": "code",
   "execution_count": null,
   "id": "a7b45c39",
   "metadata": {},
   "outputs": [],
   "source": [
    "# Plot t-SNE results\n",
    "fig = plot_embeddings(\n",
    "    reduced_data=tsne_embedding,\n",
    "    metadata=aggregated_metadata,\n",
    "    color_by='superclass',\n",
    "    method_name='t-SNE',\n",
    "    title='t-SNE Projection of LungHist700 Embeddings with Aggregation by Original File',\n",
    "    palette_name='tab10'\n",
    ")\n",
    "plt.show()"
   ]
  },
  {
   "cell_type": "code",
   "execution_count": null,
   "id": "bc8b74e9",
   "metadata": {},
   "outputs": [],
   "source": [
    "fig = plot_embeddings(\n",
    "    reduced_data=tsne_embedding,\n",
    "    metadata=aggregated_metadata,\n",
    "    color_by='resolution',\n",
    "    method_name='t-SNE',\n",
    "    title='t-SNE Projection of LungHist700 Embeddings with Aggregation by Original File',\n",
    "    palette_name='tab10'\n",
    ")\n",
    "plt.show()"
   ]
  },
  {
   "cell_type": "code",
   "execution_count": null,
   "id": "efd4c79a",
   "metadata": {},
   "outputs": [],
   "source": [
    "# Compute UMAP reduction\n",
    "print(\"Computing UMAP projection...\")\n",
    "reducer = umap.UMAP(\n",
    "    n_neighbors=15,          # Size of local neighborhood (higher: more global structure)\n",
    "    min_dist=0.1,            # Minimum distance between points (lower: tighter clusters)\n",
    "    n_components=2,          # Output dimensions\n",
    "    metric='euclidean',      # Distance metric\n",
    "    random_state=42          # For reproducibility\n",
    ")\n",
    "umap_embedding = reducer.fit_transform(embeddings)"
   ]
  },
  {
   "cell_type": "code",
   "execution_count": null,
   "id": "8a9e0f7d",
   "metadata": {},
   "outputs": [],
   "source": [
    "# Plot with your visualization function\n",
    "fig = plot_embeddings(\n",
    "    reduced_data=umap_embedding,\n",
    "    metadata=aligned_metadata,\n",
    "    color_by='class_name',  # Or 'superclass' for higher-level grouping\n",
    "    method_name='UMAP',\n",
    "    title='UMAP Projection of LungHist700 Embeddings withtout Aggregation',\n",
    "    palette_name='tab10'\n",
    ")\n",
    "plt.show()"
   ]
  },
  {
   "cell_type": "code",
   "execution_count": null,
   "id": "f485377e",
   "metadata": {},
   "outputs": [],
   "source": [
    "# Plot with your visualization function\n",
    "fig = plot_embeddings(\n",
    "    reduced_data=umap_embedding,\n",
    "    metadata=aligned_metadata,\n",
    "    color_by='superclass',  # Or 'superclass' for higher-level grouping\n",
    "    method_name='UMAP',\n",
    "    title='UMAP Projection of LungHist700 Embeddings without Aggregation',\n",
    "    palette_name='tab10'\n",
    ")\n",
    "plt.show()"
   ]
  },
  {
   "cell_type": "code",
   "execution_count": null,
   "id": "bae3fb6e",
   "metadata": {},
   "outputs": [],
   "source": [
    "# Plot with your visualization function\n",
    "fig = plot_embeddings(\n",
    "    reduced_data=umap_embedding,\n",
    "    metadata=aligned_metadata,\n",
    "    color_by='subclass',  # Or 'superclass' for higher-level grouping\n",
    "    method_name='UMAP',\n",
    "    title='UMAP Projection of LungHist700 Embeddings without Aggregation',\n",
    "    palette_name='tab10'\n",
    ")\n",
    "plt.show()"
   ]
  },
  {
   "cell_type": "code",
   "execution_count": null,
   "id": "953df419",
   "metadata": {},
   "outputs": [],
   "source": [
    "# Plot with your visualization function\n",
    "fig = plot_embeddings(\n",
    "    reduced_data=umap_embedding,\n",
    "    metadata=aligned_metadata,\n",
    "    color_by='resolution',  # Or 'superclass' for higher-level grouping\n",
    "    method_name='UMAP',\n",
    "    title='UMAP Projection of LungHist700 Embeddings without Aggregation',\n",
    "    palette_name='tab10'\n",
    ")\n",
    "plt.show()"
   ]
  },
  {
   "cell_type": "code",
   "execution_count": null,
   "id": "6812dc1d",
   "metadata": {},
   "outputs": [],
   "source": [
    "# Compute UMAP reduction\n",
    "print(\"Computing UMAP projection...\")\n",
    "reducer = umap.UMAP(\n",
    "    n_neighbors=10,          # Size of local neighborhood (higher: more global structure)\n",
    "    min_dist=0.2,            # Minimum distance between points (lower: tighter clusters)\n",
    "    n_components=2,          # Output dimensions\n",
    "    metric='euclidean',      # Distance metric\n",
    "    random_state=42          # For reproducibility\n",
    ")\n",
    "umap_embedding = reducer.fit_transform(aggregated_embeddings)"
   ]
  },
  {
   "cell_type": "code",
   "execution_count": null,
   "id": "278ef47b",
   "metadata": {},
   "outputs": [],
   "source": [
    "# Plot with your visualization function\n",
    "fig = plot_embeddings(\n",
    "    reduced_data=umap_embedding,\n",
    "    metadata=aggregated_metadata,\n",
    "    color_by='class_name',  # Or 'superclass' for higher-level grouping\n",
    "    method_name='UMAP',\n",
    "    title='UMAP Projection of LungHist700 Embeddings with Mean aggregation',\n",
    "    palette_name='tab10'\n",
    ")\n",
    "plt.show()"
   ]
  },
  {
   "cell_type": "code",
   "execution_count": null,
   "id": "1ba438f4",
   "metadata": {},
   "outputs": [],
   "source": [
    "# Plot with your visualization function\n",
    "fig = plot_embeddings(\n",
    "    reduced_data=umap_embedding,\n",
    "    metadata=aggregated_metadata,\n",
    "    color_by='superclass',  # Or 'superclass' for higher-level grouping\n",
    "    method_name='UMAP',\n",
    "    title='UMAP Projection of LungHist700 Embeddings with Mean aggregation',\n",
    "    palette_name='tab10'\n",
    ")\n",
    "plt.show()"
   ]
  },
  {
   "cell_type": "code",
   "execution_count": null,
   "id": "e5200ced",
   "metadata": {},
   "outputs": [],
   "source": [
    "# Plot with your visualization function\n",
    "fig = plot_embeddings(\n",
    "    reduced_data=umap_embedding,\n",
    "    metadata=aggregated_metadata,\n",
    "    color_by='subclass',  # Or 'superclass' for higher-level grouping\n",
    "    method_name='UMAP',\n",
    "    title='UMAP Projection of LungHist700 Embeddings with Mean aggregation',\n",
    "    palette_name='tab10'\n",
    ")\n",
    "plt.show()"
   ]
  },
  {
   "cell_type": "code",
   "execution_count": null,
   "id": "9dd0e5d0",
   "metadata": {},
   "outputs": [],
   "source": [
    "# Plot with your visualization function\n",
    "fig = plot_embeddings(\n",
    "    reduced_data=umap_embedding,\n",
    "    metadata=aggregated_metadata,\n",
    "    color_by='resolution',  # Or 'superclass' for higher-level grouping\n",
    "    method_name='UMAP',\n",
    "    title='UMAP Projection of LungHist700 Embeddings with Mean aggregation',\n",
    "    palette_name='tab10'\n",
    ")\n",
    "plt.show()"
   ]
  },
  {
   "cell_type": "code",
   "execution_count": null,
   "id": "78c7b10e",
   "metadata": {},
   "outputs": [],
   "source": [
    "# Compute PCA reduction\n",
    "print(\"Computing PCA projection...\")\n",
    "pca = PCA(\n",
    "    n_components=2,        # Output dimensions\n",
    "    random_state=42        # For reproducibility\n",
    ")\n",
    "pca_embedding = pca.fit_transform(embeddings)\n",
    "\n",
    "# Print explained variance\n",
    "explained_variance = pca.explained_variance_ratio_\n",
    "print(f\"Explained variance ratio: {explained_variance[0]:.4f}, {explained_variance[1]:.4f}\")\n",
    "print(f\"Total explained variance: {sum(explained_variance):.4f}\")"
   ]
  },
  {
   "cell_type": "code",
   "execution_count": null,
   "id": "e18c7902",
   "metadata": {},
   "outputs": [],
   "source": [
    "# Plot with your visualization function\n",
    "fig = plot_embeddings(\n",
    "    reduced_data=pca_embedding,\n",
    "    metadata=aligned_metadata,\n",
    "    color_by='class_name',  # Or 'superclass' for higher-level grouping\n",
    "    method_name='PCA',\n",
    "    title='PCA Projection of LungHist700 Embeddings without Aggregation',\n",
    "    palette_name='tab10'\n",
    ")\n",
    "plt.show()"
   ]
  },
  {
   "cell_type": "code",
   "execution_count": null,
   "id": "f8d47e40",
   "metadata": {},
   "outputs": [],
   "source": [
    "# Plot with your visualization function\n",
    "fig = plot_embeddings(\n",
    "    reduced_data=pca_embedding,\n",
    "    metadata=aligned_metadata,\n",
    "    color_by='superclass',  # Or 'superclass' for higher-level grouping\n",
    "    method_name='PCA',\n",
    "    title='PCA Projection of LungHist700 Embeddings without Aggregation',\n",
    "    palette_name='tab10'\n",
    ")\n",
    "plt.show()"
   ]
  },
  {
   "cell_type": "code",
   "execution_count": null,
   "id": "be48161e",
   "metadata": {},
   "outputs": [],
   "source": [
    "# Plot with your visualization function\n",
    "fig = plot_embeddings(\n",
    "    reduced_data=pca_embedding,\n",
    "    metadata=aligned_metadata,\n",
    "    color_by='subclass',  # Or 'superclass' for higher-level grouping\n",
    "    method_name='PCA',\n",
    "    title='PCA Projection of LungHist700 Embeddings without Aggregation',\n",
    "    palette_name='tab10'\n",
    ")\n",
    "plt.show()"
   ]
  },
  {
   "cell_type": "code",
   "execution_count": null,
   "id": "45c9ad18",
   "metadata": {},
   "outputs": [],
   "source": [
    "# Plot with your visualization function\n",
    "fig = plot_embeddings(\n",
    "    reduced_data=pca_embedding,\n",
    "    metadata=aligned_metadata,\n",
    "    color_by='resolution',  # Or 'superclass' for higher-level grouping\n",
    "    method_name='PCA',\n",
    "    title='PCA Projection of LungHist700 Embeddings without Aggregation',\n",
    "    palette_name='tab10'\n",
    ")\n",
    "plt.show()"
   ]
  },
  {
   "cell_type": "code",
   "execution_count": null,
   "id": "41c2bbcd",
   "metadata": {},
   "outputs": [],
   "source": [
    "# Compute PCA reduction\n",
    "print(\"Computing PCA projection...\")\n",
    "pca = PCA(\n",
    "    n_components=2,        # Output dimensions\n",
    "    random_state=42        # For reproducibility\n",
    ")\n",
    "pca_embedding = pca.fit_transform(aggregated_embeddings)\n",
    "\n",
    "# Print explained variance\n",
    "explained_variance = pca.explained_variance_ratio_\n",
    "print(f\"Explained variance ratio: {explained_variance[0]:.4f}, {explained_variance[1]:.4f}\")\n",
    "print(f\"Total explained variance: {sum(explained_variance):.4f}\")"
   ]
  },
  {
   "cell_type": "code",
   "execution_count": null,
   "id": "ad9fdb4d",
   "metadata": {},
   "outputs": [],
   "source": [
    "# Plot with your visualization function\n",
    "fig = plot_embeddings(\n",
    "    reduced_data=pca_embedding,\n",
    "    metadata=aggregated_metadata,\n",
    "    color_by='class_name',  # Or 'superclass' for higher-level grouping\n",
    "    method_name='PCA',\n",
    "    title='PCA Projection of LungHist700 Embeddings with Mean aggregation',\n",
    "    palette_name='tab10'\n",
    ")\n",
    "plt.show()"
   ]
  },
  {
   "cell_type": "code",
   "execution_count": null,
   "id": "5198b230",
   "metadata": {},
   "outputs": [],
   "source": [
    "# Plot with your visualization function\n",
    "fig = plot_embeddings(\n",
    "    reduced_data=pca_embedding,\n",
    "    metadata=aggregated_metadata,\n",
    "    color_by='superclass',  # Or 'superclass' for higher-level grouping\n",
    "    method_name='PCA',\n",
    "    title='PCA Projection of LungHist700 Embeddings with Mean aggregation',\n",
    "    palette_name='tab10'\n",
    ")\n",
    "plt.show()"
   ]
  },
  {
   "cell_type": "code",
   "execution_count": null,
   "id": "01082c05",
   "metadata": {},
   "outputs": [],
   "source": [
    "# Plot with your visualization function\n",
    "fig = plot_embeddings(\n",
    "    reduced_data=pca_embedding,\n",
    "    metadata=aggregated_metadata,\n",
    "    color_by='subclass',  # Or 'superclass' for higher-level grouping\n",
    "    method_name='PCA',\n",
    "    title='PCA Projection of LungHist700 Embeddings with Mean aggregation',\n",
    "    palette_name='tab10'\n",
    ")\n",
    "plt.show()"
   ]
  },
  {
   "cell_type": "code",
   "execution_count": null,
   "id": "1f7d8846",
   "metadata": {},
   "outputs": [],
   "source": [
    "# Plot with your visualization function\n",
    "fig = plot_embeddings(\n",
    "    reduced_data=pca_embedding,\n",
    "    metadata=aggregated_metadata,\n",
    "    color_by='resolution',  # Or 'superclass' for higher-level grouping\n",
    "    method_name='PCA',\n",
    "    title='PCA Projection of LungHist700 Embeddings with Mean aggregation',\n",
    "    palette_name='tab10'\n",
    ")\n",
    "plt.show()"
   ]
  }
 ],
 "metadata": {
  "kernelspec": {
   "display_name": "torchpl",
   "language": "python",
   "name": "python3"
  },
  "language_info": {
   "codemirror_mode": {
    "name": "ipython",
    "version": 3
   },
   "file_extension": ".py",
   "mimetype": "text/x-python",
   "name": "python",
   "nbconvert_exporter": "python",
   "pygments_lexer": "ipython3",
   "version": "3.11.0"
  }
 },
 "nbformat": 4,
 "nbformat_minor": 5
}
