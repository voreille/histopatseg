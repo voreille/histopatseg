{
 "cells": [
  {
   "cell_type": "code",
   "execution_count": null,
   "id": "3a8673b3",
   "metadata": {},
   "outputs": [],
   "source": [
    "# Example Analysis Notebook: model_comparison.ipynb\n",
    "\n",
    "# Import necessary libraries\n",
    "import json\n",
    "import pandas as pd\n",
    "import numpy as np\n",
    "import matplotlib.pyplot as plt\n",
    "from pathlib import Path\n",
    "import seaborn as sns\n",
    "from IPython.display import Image, display\n",
    "\n",
    "# Load results summary\n",
    "project_root = Path(\".\").resolve().parent\n",
    "results_path = project_root / \"reports/figures/foundation_models/lunghist700_results_summary.json\"\n",
    "\n",
    "with open(results_path, 'r') as f:\n",
    "    results = json.load(f)\n",
    "\n",
    "# Display available models\n",
    "print(\"Available models:\")\n",
    "for model_name in results[\"models\"].keys():\n",
    "    print(f\"- {model_name}\")\n",
    "\n",
    "# Display comparison images\n",
    "print(\"\\nModel Comparisons:\")\n",
    "for category, img_path in results[\"visualizations\"][\"comparisons\"].items():\n",
    "    print(f\"\\n{category.upper()} Comparison:\")\n",
    "    display(Image(filename=img_path))\n",
    "\n",
    "# You can now interactively explore individual model visualizations\n",
    "# For example:\n",
    "model = \"gigapath_global_pool_true\"\n",
    "vis_type = \"tsne_superclass\"\n",
    "\n",
    "if model in results[\"models\"] and vis_type in results[\"models\"][model][\"visualizations\"]:\n",
    "    img_path = results[\"models\"][model][\"visualizations\"][vis_type]\n",
    "    display(Image(filename=img_path))"
   ]
  }
 ],
 "metadata": {
  "language_info": {
   "name": "python"
  }
 },
 "nbformat": 4,
 "nbformat_minor": 5
}
