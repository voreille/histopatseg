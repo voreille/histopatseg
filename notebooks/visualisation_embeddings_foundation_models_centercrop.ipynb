{
 "cells": [
  {
   "cell_type": "code",
   "execution_count": null,
   "id": "19c06a3c",
   "metadata": {},
   "outputs": [],
   "source": [
    "from pathlib import Path\n",
    "\n",
    "import numpy as np\n",
    "import matplotlib.pyplot as plt\n",
    "import pandas as pd\n",
    "import seaborn as sns\n",
    "from sklearn.manifold import TSNE\n",
    "from sklearn.decomposition import PCA\n",
    "import umap\n",
    "\n",
    "from histopatseg.visualization.visualization import plot_embeddings\n",
    "from histopatseg.evaluation.utils import aggregate_tile_embeddings"
   ]
  },
  {
   "cell_type": "code",
   "execution_count": null,
   "id": "6f6807a2",
   "metadata": {},
   "outputs": [],
   "source": [
    "project_dir = Path(\".\").resolve().parent\n",
    "print(f\"Project Directory: {project_dir}\")"
   ]
  },
  {
   "cell_type": "code",
   "execution_count": null,
   "id": "b14d276c",
   "metadata": {},
   "outputs": [],
   "source": [
    "embedding_file = project_dir / \"data/processed/embeddings/lunghist700_20x_UNI2_centercrop_embeddings.npz\"\n",
    "metadata  = pd.read_csv(project_dir / \"data/processed/LungHist700/metadata.csv\").set_index(\"filename\")\n",
    "metadata.head()"
   ]
  },
  {
   "cell_type": "code",
   "execution_count": null,
   "id": "63036799",
   "metadata": {},
   "outputs": [],
   "source": [
    "# Load the embeddings\n",
    "data = np.load(embedding_file)\n",
    "embeddings = data[\"embeddings\"]\n",
    "image_ids = data[\"tile_ids\"]\n",
    "embedding_dim = data[\"embedding_dim\"]\n",
    "\n",
    "# Print basic information\n",
    "print(f\"Loaded {len(embeddings)} embeddings with dimensionality {embeddings.shape[1]}\")\n",
    "print(f\"Embedding dimension from model: {embedding_dim}\")"
   ]
  },
  {
   "cell_type": "code",
   "execution_count": null,
   "id": "e95682d0",
   "metadata": {},
   "outputs": [],
   "source": [
    "# Check if all embedding tile_ids are in the metadata index\n",
    "missing_ids = [id for id in image_ids if id not in metadata.index]\n",
    "if missing_ids:\n",
    "    print(f\"Warning: {len(missing_ids)} tile_ids from embeddings are not in metadata\")\n",
    "    print(f\"First few missing IDs: {missing_ids[:5]}\")\n",
    "aligned_metadata = metadata.reindex(image_ids)\n",
    "aligned_metadata['subclass'] = aligned_metadata.apply(\n",
    "    lambda row: row['superclass'] if pd.isna(row['subclass']) and row['superclass'] == 'nor' else row['subclass'], \n",
    "    axis=1\n",
    ")"
   ]
  },
  {
   "cell_type": "code",
   "execution_count": null,
   "id": "f6ad8fd4",
   "metadata": {},
   "outputs": [],
   "source": [
    "aligned_metadata.head()"
   ]
  },
  {
   "cell_type": "code",
   "execution_count": null,
   "id": "78ff5177",
   "metadata": {},
   "outputs": [],
   "source": [
    "def visualize_embeddings(embeddings, metadata, method=\"t-SNE\"):\n",
    "    \"\"\"Generate visualizations for embeddings using specified dimensionality reduction.\n",
    "    \n",
    "    Args:\n",
    "        embeddings: The embedding vectors\n",
    "        metadata: Associated metadata\n",
    "        method: Dimensionality reduction method (\"t-SNE\", \"UMAP\", or \"PCA\")\n",
    "    \"\"\"\n",
    "    suffix = \"with center crop aggregation\" \n",
    "    \n",
    "    # Perform dimensionality reduction\n",
    "    if method == \"t-SNE\":\n",
    "        reducer = TSNE(\n",
    "            n_components=2,\n",
    "            perplexity=15, \n",
    "            n_iter=1000,\n",
    "            random_state=42,\n",
    "            init='pca'\n",
    "        )\n",
    "    elif method == \"UMAP\":\n",
    "        reducer = umap.UMAP(\n",
    "            n_neighbors=12,\n",
    "            min_dist=0.2,\n",
    "            n_components=2,\n",
    "            metric='euclidean',\n",
    "            random_state=42\n",
    "        )\n",
    "    elif method == \"PCA\":\n",
    "        reducer = PCA(n_components=2, random_state=42)\n",
    "    \n",
    "    reduced_data = reducer.fit_transform(embeddings)\n",
    "    \n",
    "    # Plot with different colorings\n",
    "    for color_by in ['class_name', 'superclass', 'subclass', 'resolution']:\n",
    "        fig = plot_embeddings(\n",
    "            reduced_data=reduced_data,\n",
    "            metadata=metadata,\n",
    "            color_by=color_by,\n",
    "            method_name=method,\n",
    "            title=f'{method} Projection of LungHist700 Embeddings {suffix}',\n",
    "            palette_name='tab10'\n",
    "        )\n",
    "        plt.show()\n",
    "    \n",
    "    return reduced_data"
   ]
  },
  {
   "cell_type": "code",
   "execution_count": null,
   "id": "5b79c6b1",
   "metadata": {},
   "outputs": [],
   "source": [
    "tsne_embedding = visualize_embeddings(embeddings, aligned_metadata, \"t-SNE\")"
   ]
  },
  {
   "cell_type": "code",
   "execution_count": null,
   "id": "72e8dcbf",
   "metadata": {},
   "outputs": [],
   "source": [
    "umap_embedding = visualize_embeddings(embeddings, aligned_metadata, \"UMAP\")"
   ]
  },
  {
   "cell_type": "code",
   "execution_count": null,
   "id": "f46209d8",
   "metadata": {},
   "outputs": [],
   "source": [
    "pca_embedding = visualize_embeddings(embeddings, aligned_metadata, \"PCA\")"
   ]
  }
 ],
 "metadata": {
  "kernelspec": {
   "display_name": "torchpl",
   "language": "python",
   "name": "python3"
  },
  "language_info": {
   "codemirror_mode": {
    "name": "ipython",
    "version": 3
   },
   "file_extension": ".py",
   "mimetype": "text/x-python",
   "name": "python",
   "nbconvert_exporter": "python",
   "pygments_lexer": "ipython3",
   "version": "3.11.0"
  }
 },
 "nbformat": 4,
 "nbformat_minor": 5
}
