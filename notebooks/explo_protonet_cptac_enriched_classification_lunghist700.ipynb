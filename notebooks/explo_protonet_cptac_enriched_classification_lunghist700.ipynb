{
 "cells": [
  {
   "cell_type": "code",
   "execution_count": null,
   "id": "bebae771",
   "metadata": {},
   "outputs": [],
   "source": [
    "from pathlib import Path\n",
    "\n",
    "import pandas as pd\n",
    "from openslide import OpenSlide\n",
    "import numpy as np\n",
    "import matplotlib.pyplot as plt\n",
    "import torch\n",
    "import cv2\n",
    "from torch.nn.functional import normalize\n",
    "from sklearn.linear_model import LogisticRegression\n",
    "from sklearn.metrics import classification_report, confusion_matrix\n",
    "\n",
    "from histopatseg.fewshot.protonet import ProtoNet, prototype_topk_vote\n",
    "from histopatseg.models.foundation_models import load_model\n",
    "from histopatseg.data.compute_embeddings_tcga_ut import load_hdf5\n",
    "from histopatseg.evaluation.utils import aggregate_tile_embeddings, custom_balanced_group_kfold\n",
    "from histopatseg.utils import get_device\n"
   ]
  },
  {
   "cell_type": "code",
   "execution_count": null,
   "id": "6db8a7e6",
   "metadata": {},
   "outputs": [],
   "source": [
    "protonet = ProtoNet.load(\"../models/protonet/cptac_enriched_uni2_20x_luad_differentiation_5_patterns.pt\")\n",
    "# protonet = ProtoNet.load(\"../models/protonet/lunghist700_luad_differentiation_uni2_20x.pt\")"
   ]
  },
  {
   "cell_type": "code",
   "execution_count": null,
   "id": "1490e96d",
   "metadata": {},
   "outputs": [],
   "source": [
    "print(protonet.prototype_embeddings.shape)"
   ]
  },
  {
   "cell_type": "code",
   "execution_count": null,
   "id": "2c9684b1",
   "metadata": {},
   "outputs": [],
   "source": [
    "# label_map = {'Acinar adenocarcinoma': 0, 'Lepidic adenocarcinoma': 1, 'Micropapillary adenocarcinoma': 2, 'Normal': 3, 'Papillary adenocarcinoma': 4, 'Solid adenocarcinoma': 5}\n",
    "label_map = protonet.label_map\n",
    "# label_map = {\"aca_bd\": 0, \"aca_md\": 1, \"aca_pd\": 2, \"nor\": 3}\n",
    "print(label_map)"
   ]
  },
  {
   "cell_type": "code",
   "execution_count": null,
   "id": "8bfc9be5",
   "metadata": {},
   "outputs": [],
   "source": [
    "project_dir = Path(\".\").resolve().parent\n",
    "print(f\"Project Directory: {project_dir}\")"
   ]
  },
  {
   "cell_type": "code",
   "execution_count": null,
   "id": "d93178b0",
   "metadata": {},
   "outputs": [],
   "source": [
    "def compute_roi_histograms(df, n_patterns):\n",
    "    roi_histograms = {}\n",
    "    roi_labels = {}\n",
    "\n",
    "    for image_id, group in df.groupby(\"original_filename\"):\n",
    "        cluster_counts = np.bincount(group[\"predicted_pattern\"], minlength=n_patterns)\n",
    "        histogram = cluster_counts / cluster_counts.sum()  # normalize\n",
    "        roi_histograms[image_id] = histogram\n",
    "        roi_labels[image_id] = group[\"class_name\"].iloc[0]  # assuming consistent label\n",
    "\n",
    "    return roi_histograms, roi_labels"
   ]
  },
  {
   "cell_type": "code",
   "execution_count": null,
   "id": "91f24265",
   "metadata": {},
   "outputs": [],
   "source": [
    "metadata  = pd.read_csv(project_dir / \"/home/valentin/workspaces/histopatseg/data/processed/LungHist700_tiled/LungHist700_20x/metadata.csv\").set_index(\"tile_id\")"
   ]
  },
  {
   "cell_type": "code",
   "execution_count": null,
   "id": "56daf469",
   "metadata": {},
   "outputs": [],
   "source": [
    "data = np.load(\"../data/processed/embeddings/LungHist700/lunghist700_20x_UNI2_embeddings.npz\")\n",
    "embeddings = data[\"embeddings\"]\n",
    "tile_ids = data[\"tile_ids\"]\n",
    "\n",
    "embeddings_df = pd.DataFrame(\n",
    "    {\n",
    "        \"tile_id\": tile_ids,\n",
    "        \"embeddings\": list(embeddings),\n",
    "    }\n",
    ").set_index(\"tile_id\")\n",
    "\n",
    "df = pd.concat([embeddings_df, metadata], axis=1)"
   ]
  },
  {
   "cell_type": "code",
   "execution_count": null,
   "id": "33dc2464",
   "metadata": {},
   "outputs": [],
   "source": [
    "# df = df[(df[\"superclass\"]==\"aca\") | (df[\"superclass\"]==\"nor\")]\n",
    "df = df[(df[\"superclass\"]==\"aca\")]"
   ]
  },
  {
   "cell_type": "code",
   "execution_count": null,
   "id": "2e7b998c",
   "metadata": {},
   "outputs": [],
   "source": [
    "df[\"predicted_pattern\"] = df[\"embeddings\"].apply(\n",
    "    lambda x: protonet.predict(torch.tensor(x, dtype=torch.float32))[0].numpy()\n",
    ")"
   ]
  },
  {
   "cell_type": "code",
   "execution_count": null,
   "id": "5d841144",
   "metadata": {},
   "outputs": [],
   "source": [
    "df.head()"
   ]
  },
  {
   "cell_type": "code",
   "execution_count": null,
   "id": "50fb2f29",
   "metadata": {},
   "outputs": [],
   "source": [
    "embeddings = np.stack(df[\"embeddings\"].values)\n",
    "labels = df[\"class_name\"].values\n",
    "patient_ids = df[\"patient_id\"].values\n",
    "roi_ids = df[\"original_filename\"].values\n",
    "patient_ids = df[\"patient_id\"].values"
   ]
  },
  {
   "cell_type": "code",
   "execution_count": null,
   "id": "bcf30920",
   "metadata": {},
   "outputs": [],
   "source": [
    "cv = list(custom_balanced_group_kfold(\n",
    "    embeddings,\n",
    "    labels,\n",
    "    patient_ids,\n",
    "    n_splits=4,\n",
    "))"
   ]
  },
  {
   "cell_type": "code",
   "execution_count": null,
   "id": "94d36f37",
   "metadata": {},
   "outputs": [],
   "source": [
    "train_idx, test_idx = cv[3]"
   ]
  },
  {
   "cell_type": "code",
   "execution_count": null,
   "id": "95b2ca14",
   "metadata": {},
   "outputs": [],
   "source": [
    "df_train = df.iloc[train_idx]\n",
    "df_test = df.iloc[test_idx]"
   ]
  },
  {
   "cell_type": "code",
   "execution_count": null,
   "id": "72db0815",
   "metadata": {},
   "outputs": [],
   "source": [
    "train_histograms, train_labels = compute_roi_histograms(df_train, len(label_map))\n",
    "test_histograms, test_labels = compute_roi_histograms(df_test, len(label_map))"
   ]
  },
  {
   "cell_type": "code",
   "execution_count": null,
   "id": "86c67ad9",
   "metadata": {},
   "outputs": [],
   "source": [
    "# Convert dicts to arrays\n",
    "X_train = np.stack(list(train_histograms.values()))\n",
    "y_train = np.array(list(train_labels.values()))\n",
    "\n",
    "X_test = np.stack(list(test_histograms.values()))\n",
    "y_test = np.array(list(test_labels.values()))\n",
    "\n",
    "# Train logistic regression\n",
    "clf = LogisticRegression(multi_class=\"multinomial\", max_iter=1000)\n",
    "clf.fit(X_train, y_train)\n",
    "\n",
    "# Predict and evaluate\n",
    "y_pred = clf.predict(X_test)\n",
    "\n",
    "print(\"Classification report:\")\n",
    "print(classification_report(y_test, y_pred))\n",
    "\n",
    "print(\"Confusion matrix:\")\n",
    "print(confusion_matrix(y_test, y_pred))"
   ]
  },
  {
   "cell_type": "code",
   "execution_count": null,
   "id": "22950bc5",
   "metadata": {},
   "outputs": [],
   "source": [
    "histograms, labels = compute_roi_histograms(df, len(label_map))"
   ]
  },
  {
   "cell_type": "code",
   "execution_count": null,
   "id": "5797b20f",
   "metadata": {},
   "outputs": [],
   "source": [
    "X = np.array(list(train_histograms.values()))\n",
    "y = np.array(list(train_labels.values()))"
   ]
  },
  {
   "cell_type": "code",
   "execution_count": null,
   "id": "c14512e4",
   "metadata": {},
   "outputs": [],
   "source": [
    "X"
   ]
  },
  {
   "cell_type": "code",
   "execution_count": null,
   "id": "e8d239bb",
   "metadata": {},
   "outputs": [],
   "source": [
    "label_map"
   ]
  },
  {
   "cell_type": "code",
   "execution_count": null,
   "id": "4726e529",
   "metadata": {},
   "outputs": [],
   "source": [
    "label_map_inv = {v: k for k, v in label_map.items()}"
   ]
  },
  {
   "cell_type": "code",
   "execution_count": null,
   "id": "c937b33f",
   "metadata": {},
   "outputs": [],
   "source": [
    "main_pattern_mapping = {\n",
    "    'Acinar adenocarcinoma': \"aca_md\",\n",
    "    'Lepidic adenocarcinoma': \"aca_bd\",\n",
    "    'Micropapillary adenocarcinoma': \"aca_pd\",\n",
    "    'Normal': \"nor\",\n",
    "    'Papillary adenocarcinoma': \"aca_md\",\n",
    "    'Solid adenocarcinoma': \"aca_pd\"\n",
    "}"
   ]
  },
  {
   "cell_type": "code",
   "execution_count": null,
   "id": "2d0e0dcc",
   "metadata": {},
   "outputs": [],
   "source": [
    "def grade_roi(ratios):\n",
    "    \"\"\"\n",
    "    Classify an ROI into 'Well', 'Moderate', or 'Poor' differentiation.\n",
    "    \n",
    "    Parameters:\n",
    "    - ratios: list or numpy array of shape (6,), representing the ratio of:\n",
    "        [Acinar, Lepidic, Micropapillary, Normal, Papillary, Solid]\n",
    "    \n",
    "    Returns:\n",
    "    - str: 'Well', 'Moderate', or 'Poor'\n",
    "    \"\"\"\n",
    "\n",
    "    # Unpack the ratios for clarity\n",
    "    acinar, lepidic, micropapillary, papillary, solid = ratios\n",
    "\n",
    "    # Compute high-grade component ratio\n",
    "    high_grade_ratio = micropapillary + solid\n",
    "\n",
    "    # Decision based on grading guidelines\n",
    "    if high_grade_ratio >= 0.20:\n",
    "        return 'aca_pd'\n",
    "    elif acinar + papillary  >= 0.90:  # optional threshold, can adjust or remove\n",
    "        return 'aca_md'\n",
    "    else:\n",
    "        return 'aca_bd'  # fallback if no clear well-diff pattern"
   ]
  },
  {
   "cell_type": "code",
   "execution_count": null,
   "id": "2cfcc173",
   "metadata": {},
   "outputs": [],
   "source": [
    "y_pred = np.array([grade_roi(x) for x in X])"
   ]
  },
  {
   "cell_type": "code",
   "execution_count": null,
   "id": "947cf835",
   "metadata": {},
   "outputs": [],
   "source": [
    "print(\"Classification report:\")\n",
    "print(classification_report(y, y_pred))\n",
    "\n",
    "print(\"Confusion matrix:\")\n",
    "print(confusion_matrix(y, y_pred))"
   ]
  },
  {
   "cell_type": "code",
   "execution_count": null,
   "id": "5e679588",
   "metadata": {},
   "outputs": [],
   "source": [
    "labels"
   ]
  },
  {
   "cell_type": "code",
   "execution_count": null,
   "id": "f2b1ec5f",
   "metadata": {},
   "outputs": [],
   "source": [
    "import matplotlib.pyplot as plt\n",
    "import seaborn as sns\n",
    "from sklearn.metrics import confusion_matrix\n",
    "\n",
    "def plot_confusion_matrix_percent(y_true, y_pred, labels, title=\"Confusion Matrix (Percent)\"):\n",
    "    \"\"\"\n",
    "    Plots a confusion matrix with percentages and a legend for True vs Predicted.\n",
    "\n",
    "    Args:\n",
    "        y_true (array-like): Ground truth labels.\n",
    "        y_pred (array-like): Predicted labels.\n",
    "        labels (list): List of label names corresponding to the classes.\n",
    "        title (str): Title of the plot.\n",
    "    \"\"\"\n",
    "    cm = confusion_matrix(y_true, y_pred, labels=labels)\n",
    "    cm_percent = cm.astype('float') / cm.sum(axis=1)[:, np.newaxis] * 100  # Normalize to percentages\n",
    "\n",
    "    plt.figure(figsize=(10, 8))\n",
    "    sns.heatmap(cm_percent, annot=True, fmt=\".2f\", cmap=\"Blues\", xticklabels=labels, yticklabels=labels)\n",
    "    plt.xlabel(\"Predicted\")\n",
    "    plt.ylabel(\"True\")\n",
    "    plt.title(title)\n",
    "    plt.show()\n",
    "\n",
    "# Example usage\n",
    "labels = [\"aca_bd\", \"aca_md\", \"aca_pd\", \"nor\"]\n",
    "plot_confusion_matrix_percent(y, y_pred, labels=labels, title=\"Confusion Matrix: True vs Predicted (Percent)\")"
   ]
  },
  {
   "cell_type": "code",
   "execution_count": null,
   "id": "af932c27",
   "metadata": {},
   "outputs": [],
   "source": []
  }
 ],
 "metadata": {
  "kernelspec": {
   "display_name": "torchpl",
   "language": "python",
   "name": "python3"
  },
  "language_info": {
   "codemirror_mode": {
    "name": "ipython",
    "version": 3
   },
   "file_extension": ".py",
   "mimetype": "text/x-python",
   "name": "python",
   "nbconvert_exporter": "python",
   "pygments_lexer": "ipython3",
   "version": "3.11.0"
  }
 },
 "nbformat": 4,
 "nbformat_minor": 5
}
