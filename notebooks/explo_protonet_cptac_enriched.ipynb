{
 "cells": [
  {
   "cell_type": "code",
   "execution_count": null,
   "id": "bebae771",
   "metadata": {},
   "outputs": [],
   "source": [
    "from pathlib import Path\n",
    "\n",
    "import pandas as pd\n",
    "from openslide import OpenSlide\n",
    "import numpy as np\n",
    "import matplotlib.pyplot as plt\n",
    "import torch\n",
    "import cv2\n",
    "from torch.nn.functional import normalize\n",
    "\n",
    "from histopatseg.fewshot.protonet import ProtoNet, prototype_topk_vote\n",
    "from histopatseg.data.compute_embeddings_tcga_ut import load_hdf5\n"
   ]
  },
  {
   "cell_type": "code",
   "execution_count": null,
   "id": "6db8a7e6",
   "metadata": {},
   "outputs": [],
   "source": [
    "protonet = ProtoNet.load(\"../models/protonet/cptac_enriched_uni2_20x_luad_differentiation_5_patterns_with_normal.pt\")"
   ]
  },
  {
   "cell_type": "code",
   "execution_count": null,
   "id": "1490e96d",
   "metadata": {},
   "outputs": [],
   "source": [
    "print(protonet.label_map)"
   ]
  },
  {
   "cell_type": "code",
   "execution_count": null,
   "id": "2c9684b1",
   "metadata": {},
   "outputs": [],
   "source": [
    "# label_map = {'Acinar adenocarcinoma': 0, 'Lepidic adenocarcinoma': 1, 'Micropapillary adenocarcinoma': 2, 'Normal': 3, 'Papillary adenocarcinoma': 4, 'Solid adenocarcinoma': 5}\n",
    "label_map = protonet.label_map\n",
    "print(label_map)"
   ]
  },
  {
   "cell_type": "code",
   "execution_count": null,
   "id": "8bfc9be5",
   "metadata": {},
   "outputs": [],
   "source": [
    "project_dir = Path(\".\").resolve().parent\n",
    "print(f\"Project Directory: {project_dir}\")"
   ]
  },
  {
   "cell_type": "code",
   "execution_count": null,
   "id": "8df9e01b",
   "metadata": {},
   "outputs": [],
   "source": [
    "metadata = pd.read_csv(\"/mnt/nas6/data/CPTAC/TCIA_CPTAC_LUAD_Pathology_Data_Table.csv\").set_index(\"Slide_ID\")"
   ]
  },
  {
   "cell_type": "code",
   "execution_count": null,
   "id": "f8fbaff9",
   "metadata": {},
   "outputs": [],
   "source": [
    "wsi_id = \"C3N-02929-22\"\n",
    "tumor_hist_type = metadata.loc[wsi_id, 'Tumor_Histological_Type']"
   ]
  },
  {
   "cell_type": "code",
   "execution_count": null,
   "id": "71df013e",
   "metadata": {},
   "outputs": [],
   "source": [
    "print(f\"Specimen Type: {metadata.loc[wsi_id, 'Specimen_Type']}\")\n",
    "print(f\"Tumor Histological Type: {tumor_hist_type}\")"
   ]
  },
  {
   "cell_type": "code",
   "execution_count": null,
   "id": "816f2f63",
   "metadata": {},
   "outputs": [],
   "source": [
    "tumor_histological_counts = metadata[\"Tumor_Histological_Type\"].value_counts()"
   ]
  },
  {
   "cell_type": "code",
   "execution_count": null,
   "id": "de9b9c19",
   "metadata": {},
   "outputs": [],
   "source": [
    "result = load_hdf5(f\"../data/processed/mahmoodlab/UNI2-h_features/CPTAC/CPTAC_LUAD/{wsi_id}.h5\")"
   ]
  },
  {
   "cell_type": "code",
   "execution_count": null,
   "id": "523751c8",
   "metadata": {},
   "outputs": [],
   "source": [
    "wsi_path = Path(f\"/mnt/nas6/data/CPTAC/CPTAC-LUAD_v12/LUAD/{wsi_id}.svs\")\n",
    "print(str(wsi_path))"
   ]
  },
  {
   "cell_type": "code",
   "execution_count": null,
   "id": "408113c4",
   "metadata": {},
   "outputs": [],
   "source": [
    "wsi = OpenSlide(f\"/mnt/nas6/data/CPTAC/CPTAC-LUAD_v12/LUAD/{wsi_id}.svs\")"
   ]
  },
  {
   "cell_type": "code",
   "execution_count": null,
   "id": "19fd314e",
   "metadata": {},
   "outputs": [],
   "source": [
    "print(f\"mpp x : {wsi.properties.get('openslide.mpp-x', 'nan')}\")\n",
    "print(f\"mpp y : {wsi.properties.get('openslide.mpp-y', 'nan')}\")"
   ]
  },
  {
   "cell_type": "code",
   "execution_count": null,
   "id": "23eb1d3f",
   "metadata": {},
   "outputs": [],
   "source": [
    "embeddings = np.squeeze(result[\"datasets\"][\"features\"])\n",
    "coordinates = np.squeeze(result[\"datasets\"][\"coords\"])"
   ]
  },
  {
   "cell_type": "code",
   "execution_count": null,
   "id": "34f90da8",
   "metadata": {},
   "outputs": [],
   "source": [
    "coordinates[1,:] - coordinates[0,:]"
   ]
  },
  {
   "cell_type": "code",
   "execution_count": null,
   "id": "9b8a02d2",
   "metadata": {},
   "outputs": [],
   "source": [
    "def compute_distances(embeddings, prototype_embeddings, mean_embedding):\n",
    "    \"\"\"\n",
    "    Compute the similarity between an embedding and a prototype.\n",
    "    \"\"\"\n",
    "    # Normalize the vectors\n",
    "    \n",
    "    feats_query = embeddings\n",
    "    feats_query = feats_query - mean_embedding\n",
    "    feats_query = normalize(feats_query, dim=-1, p=2)\n",
    "    feats_query = feats_query[:, None]  # [N x 1 x D]\n",
    "    proto_embeddings = prototype_embeddings[None, :]  # [1 x C x D]\n",
    "    pw_dist = (feats_query - proto_embeddings).norm(\n",
    "            dim=-1, p=2\n",
    "    )  # [N x C ]\n",
    "    \n",
    "    return pw_dist"
   ]
  },
  {
   "cell_type": "code",
   "execution_count": null,
   "id": "988762fb",
   "metadata": {},
   "outputs": [],
   "source": [
    "distances = compute_distances(torch.tensor(embeddings, dtype=torch.float32), protonet.prototype_embeddings, protonet.mean).numpy()"
   ]
  },
  {
   "cell_type": "code",
   "execution_count": null,
   "id": "ca485bef",
   "metadata": {},
   "outputs": [],
   "source": [
    "prototype_topk_vote(protonet, torch.tensor(embeddings, dtype=torch.float32), topk=5)"
   ]
  },
  {
   "cell_type": "code",
   "execution_count": null,
   "id": "666364ce",
   "metadata": {},
   "outputs": [],
   "source": [
    "distances.shape"
   ]
  },
  {
   "cell_type": "code",
   "execution_count": null,
   "id": "129de1dc",
   "metadata": {},
   "outputs": [],
   "source": [
    "wsi.level_dimensions[0]"
   ]
  },
  {
   "cell_type": "code",
   "execution_count": null,
   "id": "a6bb4495",
   "metadata": {},
   "outputs": [],
   "source": [
    "wsi.level_dimensions[0][0] / wsi.level_dimensions[-1][0] "
   ]
  },
  {
   "cell_type": "code",
   "execution_count": null,
   "id": "0bb398e6",
   "metadata": {},
   "outputs": [],
   "source": [
    "def compute_heatmap_optimized(wsi, coordinates, scores, tile_size=224, tile_level=0, rescale=False):\n",
    "\n",
    "    # Rescale scores if needed\n",
    "    if rescale:\n",
    "        scores = (2 * scores - np.min(scores) - np.max(scores)) / (np.max(scores) - np.min(scores))\n",
    "\n",
    "    num_classes = scores.shape[1]\n",
    "\n",
    "    downsample_to_base = wsi.level_downsamples[tile_level]  # From scores_level to level 0\n",
    "\n",
    "    wsi_dimensions = wsi.level_dimensions[0]\n",
    "    downsample = downsample_to_base * tile_size\n",
    "    heatmap_height = np.ceil(wsi_dimensions[0] / downsample).astype(int)\n",
    "    heatmap_width = np.ceil(wsi_dimensions[1] / downsample).astype(int)\n",
    "    heatmap = np.zeros((heatmap_width, heatmap_height, num_classes), dtype=np.float32)  # Shape should be (height, width)\n",
    "\n",
    "    # Populate the heatmap\n",
    "    for i, (x, y) in enumerate(coordinates):\n",
    "        grid_x = np.floor(x / downsample).astype(int)\n",
    "        grid_y = np.floor(y / downsample).astype(int)\n",
    "        heatmap[grid_y, grid_x, :] = scores[i, :]\n",
    "\n",
    "    # Upscale the heatmap to match the thumbnail size\n",
    "    thumbnail_size = wsi.level_dimensions[-1]  # (height, width)\n",
    "    heatmap_upscaled = cv2.resize(heatmap, thumbnail_size, interpolation=cv2.INTER_LINEAR)\n",
    "    thumbnail = wsi.get_thumbnail(thumbnail_size)\n",
    "\n",
    "    return heatmap_upscaled, thumbnail"
   ]
  },
  {
   "cell_type": "code",
   "execution_count": null,
   "id": "122a1691",
   "metadata": {},
   "outputs": [],
   "source": [
    "heatmaps, thumbnail = compute_heatmap_optimized(wsi, coordinates, -distances, tile_size=256, tile_level=0, rescale=True)"
   ]
  },
  {
   "cell_type": "code",
   "execution_count": null,
   "id": "08dfee9d",
   "metadata": {},
   "outputs": [],
   "source": [
    "heatmaps.shape"
   ]
  },
  {
   "cell_type": "code",
   "execution_count": null,
   "id": "9a3170f7",
   "metadata": {},
   "outputs": [],
   "source": [
    "# Normalize all heatmaps to the same scale\n",
    "vmin = np.min(heatmaps)\n",
    "vmax = np.max(heatmaps)\n",
    "\n",
    "num_classes = heatmaps.shape[2]\n",
    "\n",
    "# Create subplots with space for a colorbar\n",
    "fig, axes = plt.subplots(1, num_classes+1, figsize=(15, 5), gridspec_kw={\"width_ratios\": [1] * num_classes + [0.05]})\n",
    "fig.suptitle(f\"Heatmaps for WSI {wsi_id} with {tumor_hist_type} Tumor Type\", fontsize=16)\n",
    "\n",
    "titles = [f\"{i.replace(' adenocarcinoma', '')}\" for i in label_map.keys()]\n",
    "\n",
    "heatmaps_list = [heatmaps[:, :, i] for i in range(heatmaps.shape[2])]\n",
    "\n",
    "# Plot heatmaps\n",
    "for ax, heatmap, title in zip(axes[:-1], heatmaps_list, titles):  # Exclude the last axis for the colorbar\n",
    "    im = ax.imshow(heatmap.squeeze(), cmap=\"jet\", vmin=vmin, vmax=vmax)  # Use the same vmin and vmax\n",
    "    ax.set_title(title)\n",
    "    ax.axis(\"off\")\n",
    "\n",
    "# Add a single colorbar in the last axis\n",
    "cbar = fig.colorbar(im, cax=axes[-1], orientation=\"vertical\")\n",
    "cbar.set_label(\"Heatmap Intensity\")\n",
    "\n",
    "# Show the plot\n",
    "plt.tight_layout()\n",
    "plt.show()"
   ]
  },
  {
   "cell_type": "code",
   "execution_count": null,
   "id": "9ff800eb",
   "metadata": {},
   "outputs": [],
   "source": [
    "plt.figure(figsize=(20, 20))\n",
    "plt.imshow(thumbnail)"
   ]
  },
  {
   "cell_type": "code",
   "execution_count": null,
   "id": "39325fa4",
   "metadata": {},
   "outputs": [],
   "source": []
  },
  {
   "cell_type": "code",
   "execution_count": null,
   "id": "d93178b0",
   "metadata": {},
   "outputs": [],
   "source": []
  }
 ],
 "metadata": {
  "kernelspec": {
   "display_name": "torchpl",
   "language": "python",
   "name": "python3"
  },
  "language_info": {
   "codemirror_mode": {
    "name": "ipython",
    "version": 3
   },
   "file_extension": ".py",
   "mimetype": "text/x-python",
   "name": "python",
   "nbconvert_exporter": "python",
   "pygments_lexer": "ipython3",
   "version": "3.11.11"
  }
 },
 "nbformat": 4,
 "nbformat_minor": 5
}
