{
 "cells": [
  {
   "cell_type": "code",
   "execution_count": null,
   "id": "df4ad911",
   "metadata": {},
   "outputs": [],
   "source": [
    "import h5py\n",
    "import pandas as pd\n",
    "from openslide import OpenSlide\n",
    "import numpy as np\n",
    "import matplotlib.pyplot as plt\n",
    "\n",
    "from histopreprocessing.features.utils import load_hdf5"
   ]
  },
  {
   "cell_type": "code",
   "execution_count": null,
   "id": "931de1f4",
   "metadata": {},
   "outputs": [],
   "source": [
    "wsi_id = \"C3N-02150-21\""
   ]
  },
  {
   "cell_type": "code",
   "execution_count": null,
   "id": "59809404",
   "metadata": {},
   "outputs": [],
   "source": [
    "metadata = pd.read_csv(\"/mnt/nas6/data/CPTAC/TCIA_CPTAC_LUAD_Pathology_Data_Table.csv\").set_index(\"Slide_ID\")"
   ]
  },
  {
   "cell_type": "code",
   "execution_count": null,
   "id": "e11fb3a5",
   "metadata": {},
   "outputs": [],
   "source": [
    "print(f\"Specimen Type: {metadata.loc[wsi_id, 'Specimen_Type']}\")\n",
    "print(f\"Tumor Histological Type: {metadata.loc[wsi_id, 'Tumor_Histological_Type']}\")"
   ]
  },
  {
   "cell_type": "code",
   "execution_count": null,
   "id": "b8daedca",
   "metadata": {},
   "outputs": [],
   "source": [
    "result = load_hdf5(f\"/home/valentin/workspaces/histopatseg/data/processed/embeddings/UNI2/cptac_luad/{wsi_id}.h5\")\n",
    "print(f\"Base Magnification: {result['global_attributes']['base_magnification']}\")\n",
    "print(f\"Tile Magnification: {result['global_attributes']['tile_magnification']}\")"
   ]
  },
  {
   "cell_type": "code",
   "execution_count": null,
   "id": "aeabcd4a",
   "metadata": {},
   "outputs": [],
   "source": [
    "wsi = OpenSlide(f\"/mnt/nas6/data/CPTAC/CPTAC-LUAD_v12/LUAD/{wsi_id}.svs\")"
   ]
  },
  {
   "cell_type": "code",
   "execution_count": null,
   "id": "827c4b70",
   "metadata": {},
   "outputs": [],
   "source": [
    "embeddings = result[\"embeddings\"]\n",
    "coordinates = result[\"coordinates\"]"
   ]
  },
  {
   "cell_type": "code",
   "execution_count": null,
   "id": "f4f77daf",
   "metadata": {},
   "outputs": [],
   "source": [
    "embeddings.shape"
   ]
  },
  {
   "cell_type": "code",
   "execution_count": null,
   "id": "ca283373",
   "metadata": {},
   "outputs": [],
   "source": [
    "prototype_h5 = \"/home/valentin/workspaces/histopatseg/data/processed/prototypes_tcga_ut/uni2_prototypes__n_wsi_32_wo_normal_precentercrop.h5\""
   ]
  },
  {
   "cell_type": "code",
   "execution_count": null,
   "id": "833d6523",
   "metadata": {},
   "outputs": [],
   "source": [
    "with h5py.File(prototype_h5, \"r\") as f:\n",
    "    # Read the mean_embedding dataset\n",
    "    mean_embedding = f[\"mean_embedding\"][:]\n",
    "    print(\"Mean Embedding:\", mean_embedding)\n",
    "    \n",
    "    # Iterate through the cancer prototypes\n",
    "    cancer_prototypes = {}\n",
    "    for cancer_name in f.keys():\n",
    "        if cancer_name != \"mean_embedding\":  # Skip the mean_embedding dataset\n",
    "            cancer_prototypes[cancer_name] = f[cancer_name][:]\n",
    "            print(f\"Cancer Name: {cancer_name}, Prototype: {cancer_prototypes[cancer_name]}\")"
   ]
  },
  {
   "cell_type": "code",
   "execution_count": null,
   "id": "7a3584a8",
   "metadata": {},
   "outputs": [],
   "source": [
    "def compute_similarity(embedding, prototype, mean_embedding, distance_metric=\"cosine\"):\n",
    "    \"\"\"\n",
    "    Compute the similarity between an embedding and a prototype.\n",
    "    \"\"\"\n",
    "    # Normalize the vectors\n",
    "    emb = embedding - mean_embedding\n",
    "    emb = emb / np.linalg.norm(emb, axis=1, keepdims=True)\n",
    "    # proto = prototype - mean_embedding\n",
    "    # proto = proto / np.linalg.norm(prototype, keepdims=True)\n",
    "    # proto = prototype\n",
    "    # emb = embedding\n",
    "    proto = prototype\n",
    "    \n",
    "    # Compute the cosine similarity\n",
    "    if distance_metric == \"cosine\":\n",
    "        similarity = np.dot(emb, proto)\n",
    "    elif distance_metric == \"euclidean\":\n",
    "        similarity = -np.linalg.norm(emb - proto, axis=1)\n",
    "    \n",
    "    return similarity"
   ]
  },
  {
   "cell_type": "code",
   "execution_count": null,
   "id": "41c69dd0",
   "metadata": {},
   "outputs": [],
   "source": [
    "def simple_shot_classification(embeddings, prototypes, mean_embedding, top_k=5):\n",
    "    \"\"\"\n",
    "    Perform simple shot classification using Euclidean distances and majority voting.\n",
    "    \n",
    "    :param embeddings: np.ndarray, shape (n_tiles, embedding_dim)\n",
    "        The embeddings for the tiles.\n",
    "    :param prototypes: dict\n",
    "        A dictionary where keys are cancer names and values are prototype vectors.\n",
    "    :param mean_embedding: np.ndarray, shape (embedding_dim,)\n",
    "        The mean embedding to normalize the embeddings.\n",
    "    :param top_k: int\n",
    "        The number of closest tiles to consider for majority voting.\n",
    "    :return: str\n",
    "        The predicted cancer type based on majority voting.\n",
    "    \"\"\"\n",
    "    # Normalize the embeddings\n",
    "    emb = embeddings - mean_embedding\n",
    "    emb = emb / np.linalg.norm(emb, axis=1, keepdims=True)\n",
    "\n",
    "    # Normalize the prototypes\n",
    "    # normalized_prototypes = {\n",
    "    #     cancer_name: prototype / np.linalg.norm(prototype)\n",
    "    #     # cancer_name: prototype \n",
    "    #     for cancer_name, prototype in prototypes.items()\n",
    "    # }\n",
    "\n",
    "    # Compute distances for each tile to each prototype\n",
    "    tile_distances = []\n",
    "    for cancer_name, prototype in prototypes.items():\n",
    "        distances = np.linalg.norm(emb - prototype, axis=1)  # Compute Euclidean distance\n",
    "        tile_distances.append((cancer_name, distances))\n",
    "\n",
    "    # Flatten distances into a list of (tile_index, cancer_name, distance)\n",
    "    flat_distances = []\n",
    "    for cancer_name, distances in tile_distances:\n",
    "        for tile_index, distance in enumerate(distances):\n",
    "            flat_distances.append((tile_index, cancer_name, distance))\n",
    "\n",
    "    # Sort by distance and select the top-k tiles\n",
    "    flat_distances = sorted(flat_distances, key=lambda x: x[2])[:top_k]\n",
    "\n",
    "    # Perform majority voting among the top-k tiles\n",
    "    cancer_votes = [cancer_name for _, cancer_name, _ in flat_distances]\n",
    "    majority_vote = max(set(cancer_votes), key=cancer_votes.count)\n",
    "\n",
    "    return majority_vote"
   ]
  },
  {
   "cell_type": "code",
   "execution_count": null,
   "id": "7a31a579",
   "metadata": {},
   "outputs": [],
   "source": [
    "distance_metric = \"euclidean\"\n",
    "mean_embedding_test = np.mean(embeddings, axis=0)\n",
    "scores_luad = compute_similarity(embeddings, cancer_prototypes[\"Lung_adenocarcinoma\"], mean_embedding, distance_metric=distance_metric)\n",
    "scores_lusc = compute_similarity(embeddings, cancer_prototypes[\"Lung_squamous_cell_carcinoma\"], mean_embedding, distance_metric=distance_metric)\n",
    "# scores_normal = compute_similarity(embeddings, cancer_prototypes[\"Lung_normal\"], mean_embedding, distance_metric=distance_metric)"
   ]
  },
  {
   "cell_type": "code",
   "execution_count": null,
   "id": "68154d79",
   "metadata": {},
   "outputs": [],
   "source": [
    "simple_shot_classification(\n",
    "    embeddings,\n",
    "    cancer_prototypes,\n",
    "    mean_embedding_test,\n",
    "    top_k=5\n",
    ")"
   ]
  },
  {
   "cell_type": "code",
   "execution_count": null,
   "id": "067b45c9",
   "metadata": {},
   "outputs": [],
   "source": [
    "def compute_heatmap(wsi, coordinates, scores, scores_level=0, tile_size=224, heatmap_level=-1, return_thumbnail=False, rescale=False):\n",
    "    \"\"\"\n",
    "    Compute a heatmap from the coordinates and scores.\n",
    "    \n",
    "    :param wsi: OpenSlide object\n",
    "        The whole slide image object.\n",
    "    :param coordinates: np.ndarray, shape (n_tiles, 2)\n",
    "        The (x, y) coordinates of the tiles at level 0.\n",
    "    :param scores: np.ndarray, shape (n_tiles,)\n",
    "        The scores for each tile.\n",
    "    :param scores_level: int\n",
    "        The level at which the tile size was defined.\n",
    "    :param tile_size: int\n",
    "        The size of the tiles in pixels at the scores_level.\n",
    "    :param heatmap_level: int\n",
    "        The level at which to generate the heatmap (-1 means the lowest resolution).\n",
    "    :param return_thumbnail: bool\n",
    "        Whether to return the thumbnail of the WSI along with the heatmap.\n",
    "    :return: np.ndarray\n",
    "        The heatmap at the specified level.\n",
    "    \"\"\"\n",
    "    # Get the dimensions of the heatmap level\n",
    "    level_dimensions = wsi.level_dimensions[heatmap_level]\n",
    "    \n",
    "    # Create an empty heatmap\n",
    "    heatmap = np.zeros(level_dimensions[::-1], dtype=np.float32)  # Shape should be (height, width)\n",
    "    \n",
    "    # Get the downsample factors\n",
    "    downsample_to_heatmap = wsi.level_downsamples[heatmap_level]  # From level 0 to heatmap level\n",
    "    downsample_to_base = wsi.level_downsamples[scores_level]  # From scores_level to level 0\n",
    "    \n",
    "    # Scale the tile size to the heatmap level\n",
    "    tile_size_base = tile_size * downsample_to_base  # Upscale tile size to level 0\n",
    "    tile_size_heatmap = np.round(tile_size_base / downsample_to_heatmap).astype(int) # Downscale to heatmap level\n",
    "    \n",
    "    # Scale the coordinates to the heatmap level\n",
    "    coordinates_heatmap = np.round(coordinates / downsample_to_heatmap).astype(int)\n",
    "\n",
    "    if rescale:\n",
    "        scores = (2 * scores - np.min(scores) - np.max(scores)) / (np.max(scores) - np.min(scores))\n",
    "    \n",
    "    # Loop over the coordinates and scores\n",
    "    for i, (x, y) in enumerate(coordinates_heatmap):  # Note: OpenSlide uses (x, y)\n",
    "        # Get the score for the current tile\n",
    "        score = scores[i]\n",
    "                # Check if the tile is within bounds\n",
    "        if (\n",
    "            x < 0 or y < 0 or\n",
    "            x + tile_size_heatmap > heatmap.shape[1] or\n",
    "            y + tile_size_heatmap > heatmap.shape[0]\n",
    "        ):\n",
    "            raise ValueError(f\"Tile at ({x}, {y}) with size {tile_size_heatmap} is out of bounds for heatmap of shape {heatmap.shape}\")\n",
    "     \n",
    "        # Add the score to the heatmap\n",
    "        heatmap[y:y + tile_size_heatmap, x:x + tile_size_heatmap] = score  # NumPy uses (row, column)\n",
    "    \n",
    "    if return_thumbnail:\n",
    "        return heatmap, wsi.get_thumbnail(level_dimensions)\n",
    "    \n",
    "    return heatmap"
   ]
  },
  {
   "cell_type": "code",
   "execution_count": null,
   "id": "dd21dac1",
   "metadata": {},
   "outputs": [],
   "source": [
    "import cv2\n",
    "\n",
    "def compute_heatmap_optimized(wsi, coordinates, scores, tile_size=224, tile_level=0, rescale=False):\n",
    "\n",
    "    downsample_to_base = wsi.level_downsamples[tile_level]  # From scores_level to level 0\n",
    "\n",
    "    wsi_dimensions = wsi.level_dimensions[0]\n",
    "    downsample = downsample_to_base * tile_size\n",
    "    heatmap_height = np.round(wsi_dimensions[0] / downsample).astype(int)\n",
    "    heatmap_width = np.round(wsi_dimensions[1] / downsample).astype(int)\n",
    "    heatmap = np.zeros((heatmap_width, heatmap_height), dtype=np.float32)  # Shape should be (height, width)\n",
    "\n",
    "    # Rescale scores if needed\n",
    "    if rescale:\n",
    "        scores = (2 * scores - np.min(scores) - np.max(scores)) / (np.max(scores) - np.min(scores))\n",
    "\n",
    "    # Populate the heatmap\n",
    "    for i, (x, y) in enumerate(coordinates):\n",
    "        grid_x = np.round(x / downsample).astype(int)\n",
    "        grid_y = np.round(y / downsample).astype(int)\n",
    "        heatmap[grid_y, grid_x] = scores[i]\n",
    "\n",
    "    # Upscale the heatmap to match the thumbnail size\n",
    "    thumbnail_size = wsi.level_dimensions[-1]  # (height, width)\n",
    "    heatmap_upscaled = cv2.resize(heatmap, thumbnail_size, interpolation=cv2.INTER_LINEAR)\n",
    "    thumbnail = wsi.get_thumbnail(thumbnail_size)\n",
    "\n",
    "    return heatmap_upscaled, thumbnail"
   ]
  },
  {
   "cell_type": "code",
   "execution_count": null,
   "id": "7222d037",
   "metadata": {},
   "outputs": [],
   "source": [
    "# heat_map, thumbnail = compute_heatmap(wsi, coordinates, scores_luad, scores_level=0, tile_size=224, heatmap_level=-1, return_thumbnail=True, rescale=True)\n",
    "heatmap, thumbnail = compute_heatmap_optimized(wsi, coordinates, scores_lusc, tile_size=224, tile_level=0, rescale=True)"
   ]
  },
  {
   "cell_type": "code",
   "execution_count": null,
   "id": "b410151b",
   "metadata": {},
   "outputs": [],
   "source": [
    "\n",
    "plt.figure(figsize=(20, 20))\n",
    "plt.imshow(heatmap, cmap=\"bwr\")\n",
    "plt.colorbar()"
   ]
  },
  {
   "cell_type": "code",
   "execution_count": null,
   "id": "dd5a28e5",
   "metadata": {},
   "outputs": [],
   "source": [
    "plt.imshow(thumbnail)"
   ]
  },
  {
   "cell_type": "code",
   "execution_count": null,
   "id": "b6dea916",
   "metadata": {},
   "outputs": [],
   "source": []
  },
  {
   "cell_type": "code",
   "execution_count": null,
   "id": "467ba294",
   "metadata": {},
   "outputs": [],
   "source": []
  }
 ],
 "metadata": {
  "kernelspec": {
   "display_name": "torchpl",
   "language": "python",
   "name": "python3"
  },
  "language_info": {
   "codemirror_mode": {
    "name": "ipython",
    "version": 3
   },
   "file_extension": ".py",
   "mimetype": "text/x-python",
   "name": "python",
   "nbconvert_exporter": "python",
   "pygments_lexer": "ipython3",
   "version": "3.11.11"
  }
 },
 "nbformat": 4,
 "nbformat_minor": 5
}
