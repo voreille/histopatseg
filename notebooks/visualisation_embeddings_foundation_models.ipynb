{
 "cells": [
  {
   "cell_type": "code",
   "execution_count": 2,
   "id": "19c06a3c",
   "metadata": {},
   "outputs": [],
   "source": [
    "from pathlib import Path\n",
    "\n",
    "import numpy as np\n",
    "import matplotlib.pyplot as plt\n",
    "import pandas as pd\n",
    "import seaborn as sns\n",
    "from sklearn.manifold import TSNE\n",
    "from sklearn.decomposition import PCA\n",
    "# import umap\n",
    "\n",
    "from histopatseg.visualization.visualization import plot_embeddings\n",
    "from histopatseg.evaluation.utils import aggregate_tile_embeddings"
   ]
  },
  {
   "cell_type": "code",
   "execution_count": 3,
   "id": "6f6807a2",
   "metadata": {},
   "outputs": [
    {
     "name": "stdout",
     "output_type": "stream",
     "text": [
      "Project Directory: /home/val/workspaces/histopatseg\n"
     ]
    }
   ],
   "source": [
    "project_dir = Path(\".\").resolve().parent\n",
    "print(f\"Project Directory: {project_dir}\")"
   ]
  },
  {
   "cell_type": "code",
   "execution_count": 6,
   "id": "b14d276c",
   "metadata": {},
   "outputs": [
    {
     "data": {
      "text/html": [
       "<div>\n",
       "<style scoped>\n",
       "    .dataframe tbody tr th:only-of-type {\n",
       "        vertical-align: middle;\n",
       "    }\n",
       "\n",
       "    .dataframe tbody tr th {\n",
       "        vertical-align: top;\n",
       "    }\n",
       "\n",
       "    .dataframe thead th {\n",
       "        text-align: right;\n",
       "    }\n",
       "</style>\n",
       "<table border=\"1\" class=\"dataframe\">\n",
       "  <thead>\n",
       "    <tr style=\"text-align: right;\">\n",
       "      <th></th>\n",
       "      <th>patient_id</th>\n",
       "      <th>superclass</th>\n",
       "      <th>subclass</th>\n",
       "      <th>resolution</th>\n",
       "      <th>image_id</th>\n",
       "      <th>class_name</th>\n",
       "      <th>label</th>\n",
       "      <th>original_filename</th>\n",
       "      <th>tile_path</th>\n",
       "    </tr>\n",
       "    <tr>\n",
       "      <th>tile_id</th>\n",
       "      <th></th>\n",
       "      <th></th>\n",
       "      <th></th>\n",
       "      <th></th>\n",
       "      <th></th>\n",
       "      <th></th>\n",
       "      <th></th>\n",
       "      <th></th>\n",
       "      <th></th>\n",
       "    </tr>\n",
       "  </thead>\n",
       "  <tbody>\n",
       "    <tr>\n",
       "      <th>aca_bd_20x_0_tile_0_0</th>\n",
       "      <td>5</td>\n",
       "      <td>aca</td>\n",
       "      <td>bd</td>\n",
       "      <td>20x</td>\n",
       "      <td>0</td>\n",
       "      <td>aca_bd</td>\n",
       "      <td>0</td>\n",
       "      <td>aca_bd_20x_0</td>\n",
       "      <td>data/processed/LungHist700_tiled/LungHist700_2...</td>\n",
       "    </tr>\n",
       "    <tr>\n",
       "      <th>aca_bd_20x_0_tile_0_1</th>\n",
       "      <td>5</td>\n",
       "      <td>aca</td>\n",
       "      <td>bd</td>\n",
       "      <td>20x</td>\n",
       "      <td>0</td>\n",
       "      <td>aca_bd</td>\n",
       "      <td>0</td>\n",
       "      <td>aca_bd_20x_0</td>\n",
       "      <td>data/processed/LungHist700_tiled/LungHist700_2...</td>\n",
       "    </tr>\n",
       "    <tr>\n",
       "      <th>aca_bd_20x_0_tile_0_2</th>\n",
       "      <td>5</td>\n",
       "      <td>aca</td>\n",
       "      <td>bd</td>\n",
       "      <td>20x</td>\n",
       "      <td>0</td>\n",
       "      <td>aca_bd</td>\n",
       "      <td>0</td>\n",
       "      <td>aca_bd_20x_0</td>\n",
       "      <td>data/processed/LungHist700_tiled/LungHist700_2...</td>\n",
       "    </tr>\n",
       "    <tr>\n",
       "      <th>aca_bd_20x_0_tile_0_3</th>\n",
       "      <td>5</td>\n",
       "      <td>aca</td>\n",
       "      <td>bd</td>\n",
       "      <td>20x</td>\n",
       "      <td>0</td>\n",
       "      <td>aca_bd</td>\n",
       "      <td>0</td>\n",
       "      <td>aca_bd_20x_0</td>\n",
       "      <td>data/processed/LungHist700_tiled/LungHist700_2...</td>\n",
       "    </tr>\n",
       "    <tr>\n",
       "      <th>aca_bd_20x_0_tile_0_4</th>\n",
       "      <td>5</td>\n",
       "      <td>aca</td>\n",
       "      <td>bd</td>\n",
       "      <td>20x</td>\n",
       "      <td>0</td>\n",
       "      <td>aca_bd</td>\n",
       "      <td>0</td>\n",
       "      <td>aca_bd_20x_0</td>\n",
       "      <td>data/processed/LungHist700_tiled/LungHist700_2...</td>\n",
       "    </tr>\n",
       "  </tbody>\n",
       "</table>\n",
       "</div>"
      ],
      "text/plain": [
       "                       patient_id superclass subclass resolution  image_id  \\\n",
       "tile_id                                                                      \n",
       "aca_bd_20x_0_tile_0_0           5        aca       bd        20x         0   \n",
       "aca_bd_20x_0_tile_0_1           5        aca       bd        20x         0   \n",
       "aca_bd_20x_0_tile_0_2           5        aca       bd        20x         0   \n",
       "aca_bd_20x_0_tile_0_3           5        aca       bd        20x         0   \n",
       "aca_bd_20x_0_tile_0_4           5        aca       bd        20x         0   \n",
       "\n",
       "                      class_name  label original_filename  \\\n",
       "tile_id                                                     \n",
       "aca_bd_20x_0_tile_0_0     aca_bd      0      aca_bd_20x_0   \n",
       "aca_bd_20x_0_tile_0_1     aca_bd      0      aca_bd_20x_0   \n",
       "aca_bd_20x_0_tile_0_2     aca_bd      0      aca_bd_20x_0   \n",
       "aca_bd_20x_0_tile_0_3     aca_bd      0      aca_bd_20x_0   \n",
       "aca_bd_20x_0_tile_0_4     aca_bd      0      aca_bd_20x_0   \n",
       "\n",
       "                                                               tile_path  \n",
       "tile_id                                                                   \n",
       "aca_bd_20x_0_tile_0_0  data/processed/LungHist700_tiled/LungHist700_2...  \n",
       "aca_bd_20x_0_tile_0_1  data/processed/LungHist700_tiled/LungHist700_2...  \n",
       "aca_bd_20x_0_tile_0_2  data/processed/LungHist700_tiled/LungHist700_2...  \n",
       "aca_bd_20x_0_tile_0_3  data/processed/LungHist700_tiled/LungHist700_2...  \n",
       "aca_bd_20x_0_tile_0_4  data/processed/LungHist700_tiled/LungHist700_2...  "
      ]
     },
     "execution_count": 6,
     "metadata": {},
     "output_type": "execute_result"
    }
   ],
   "source": [
    "embedding_file = project_dir / \"data/processed/embeddings/lunghist700_20x_UNI2_embeddings.npz\"\n",
    "metadata  = pd.read_csv(project_dir / \"data/processed/LungHist700_tiled/LungHist700_20x/metadata.csv\").set_index(\"tile_id\")\n",
    "metadata.head()"
   ]
  },
  {
   "cell_type": "code",
   "execution_count": 7,
   "id": "63036799",
   "metadata": {},
   "outputs": [
    {
     "name": "stdout",
     "output_type": "stream",
     "text": [
      "Loaded 21216 embeddings with dimensionality 1536\n",
      "Embedding dimension from model: 1536\n"
     ]
    }
   ],
   "source": [
    "# Load the embeddings\n",
    "data = np.load(embedding_file)\n",
    "embeddings = data[\"embeddings\"]\n",
    "tile_ids = data[\"tile_ids\"]\n",
    "embedding_dim = data[\"embedding_dim\"]\n",
    "\n",
    "# Print basic information\n",
    "print(f\"Loaded {len(embeddings)} embeddings with dimensionality {embeddings.shape[1]}\")\n",
    "print(f\"Embedding dimension from model: {embedding_dim}\")"
   ]
  },
  {
   "cell_type": "code",
   "execution_count": 8,
   "id": "e95682d0",
   "metadata": {},
   "outputs": [],
   "source": [
    "# Check if all embedding tile_ids are in the metadata index\n",
    "missing_ids = [id for id in tile_ids if id not in metadata.index]\n",
    "if missing_ids:\n",
    "    print(f\"Warning: {len(missing_ids)} tile_ids from embeddings are not in metadata\")\n",
    "    print(f\"First few missing IDs: {missing_ids[:5]}\")\n",
    "aligned_metadata = metadata.reindex(tile_ids)\n",
    "aligned_metadata['subclass'] = aligned_metadata.apply(\n",
    "    lambda row: row['superclass'] if pd.isna(row['subclass']) and row['superclass'] == 'nor' else row['subclass'], \n",
    "    axis=1\n",
    ")"
   ]
  },
  {
   "cell_type": "code",
   "execution_count": 9,
   "id": "11a27179",
   "metadata": {},
   "outputs": [
    {
     "name": "stdout",
     "output_type": "stream",
     "text": [
      "Aggregated 21216 individual tile embeddings into 691 original_filename-level embeddings\n"
     ]
    }
   ],
   "source": [
    "aggregated_embeddings, aggregated_metadata = aggregate_tile_embeddings(\n",
    "    embeddings=embeddings,\n",
    "    tile_ids=tile_ids,\n",
    "    metadata=aligned_metadata,\n",
    "    group_by=\"original_filename\",\n",
    ")"
   ]
  },
  {
   "cell_type": "code",
   "execution_count": 10,
   "id": "78ff5177",
   "metadata": {},
   "outputs": [],
   "source": [
    "def visualize_embeddings(embeddings, metadata, method=\"t-SNE\", aggregated=False):\n",
    "    \"\"\"Generate visualizations for embeddings using specified dimensionality reduction.\n",
    "    \n",
    "    Args:\n",
    "        embeddings: The embedding vectors\n",
    "        metadata: Associated metadata\n",
    "        method: Dimensionality reduction method (\"t-SNE\", \"UMAP\", or \"PCA\")\n",
    "        aggregated: Whether these are aggregated embeddings\n",
    "    \"\"\"\n",
    "    suffix = \"with Mean aggregation\" if aggregated else \"without Aggregation\"\n",
    "    \n",
    "    # Perform dimensionality reduction\n",
    "    if method == \"t-SNE\":\n",
    "        reducer = TSNE(\n",
    "            n_components=2,\n",
    "            perplexity=15 if aggregated else 30,\n",
    "            n_iter=1000,\n",
    "            random_state=42,\n",
    "            init='pca'\n",
    "        )\n",
    "    elif method == \"UMAP\":\n",
    "        reducer = umap.UMAP(\n",
    "            n_neighbors=10 if aggregated else 15,\n",
    "            min_dist=0.2 if aggregated else 0.1,\n",
    "            n_components=2,\n",
    "            metric='euclidean',\n",
    "            random_state=42\n",
    "        )\n",
    "    elif method == \"PCA\":\n",
    "        reducer = PCA(n_components=2, random_state=42)\n",
    "    \n",
    "    reduced_data = reducer.fit_transform(embeddings)\n",
    "    \n",
    "    # Plot with different colorings\n",
    "    for color_by in ['class_name', 'superclass', 'subclass', 'resolution', 'patient_id']:\n",
    "        fig = plot_embeddings(\n",
    "            reduced_data=reduced_data,\n",
    "            metadata=metadata,\n",
    "            color_by=color_by,\n",
    "            method_name=method,\n",
    "            title=f'{method} Projection of LungHist700 Embeddings {suffix}',\n",
    "            palette_name='tab10'\n",
    "        )\n",
    "        plt.show()\n",
    "    \n",
    "    return reduced_data"
   ]
  },
  {
   "cell_type": "code",
   "execution_count": 11,
   "id": "a3bfa161",
   "metadata": {},
   "outputs": [],
   "source": [
    "def remove_image_pcs_for_normalized(embeddings, groups, n_components=2):\n",
    "    \"\"\"\n",
    "    Remove principal components that capture image-level variation,\n",
    "    specially adapted for L2-normalized embeddings.\n",
    "    \n",
    "    Parameters:\n",
    "    -----------\n",
    "    embeddings : numpy array of shape (n_samples, n_features)\n",
    "        L2-normalized embedding vectors\n",
    "    groups : numpy array of shape (n_samples,)\n",
    "        groups ID for each tile to remove the effect of\n",
    "    n_components : int\n",
    "        Number of principal components to remove\n",
    "    \n",
    "    Returns:\n",
    "    --------\n",
    "    corrected_embeddings : numpy array of shape (n_samples, n_features)\n",
    "        Embeddings with image-level PCs removed\n",
    "    \"\"\"\n",
    "    unique_group_ids = np.unique(groups)\n",
    "    \n",
    "    # Compute image means\n",
    "    group_means = np.zeros((len(unique_group_ids), embeddings.shape[1]))\n",
    "    for i, group_id in enumerate(unique_group_ids):\n",
    "        mask = groups == group_id\n",
    "        # For L2-normalized vectors, take the mean and re-normalize\n",
    "        mean_vector = embeddings[mask].mean(axis=0)\n",
    "        group_means[i] = mean_vector / np.linalg.norm(mean_vector)\n",
    "    \n",
    "    # Compute PCA on image means to identify image-specific directions\n",
    "    pca = PCA(n_components=n_components)\n",
    "    pca.fit(group_means)\n",
    "    image_pcs = pca.components_\n",
    "    \n",
    "    # For each embedding, remove projection onto image PCs\n",
    "    corrected_embeddings = embeddings.copy()\n",
    "    for i in range(len(embeddings)):\n",
    "        embedding = embeddings[i]\n",
    "        \n",
    "        # Remove projections onto image PCs\n",
    "        for pc in image_pcs:\n",
    "            # Calculate projection\n",
    "            proj = np.dot(embedding, pc) * pc\n",
    "            # Subtract projection\n",
    "            embedding = embedding - proj\n",
    "            \n",
    "        # Renormalize to unit length\n",
    "        corrected_embeddings[i] = embedding / np.linalg.norm(embedding)\n",
    "    \n",
    "    return corrected_embeddings"
   ]
  },
  {
   "cell_type": "code",
   "execution_count": 12,
   "id": "1a14a518",
   "metadata": {},
   "outputs": [],
   "source": [
    "corrected_embeddings = remove_image_pcs_for_normalized(embeddings, aligned_metadata['patient_id'].values, n_components=3)"
   ]
  },
  {
   "cell_type": "code",
   "execution_count": 13,
   "id": "5b79c6b1",
   "metadata": {},
   "outputs": [
    {
     "name": "stderr",
     "output_type": "stream",
     "text": [
      "/home/val/miniconda/envs/torch/lib/python3.12/site-packages/sklearn/manifold/_t_sne.py:1164: FutureWarning: 'n_iter' was renamed to 'max_iter' in version 1.5 and will be removed in 1.7.\n",
      "  warnings.warn(\n"
     ]
    },
    {
     "ename": "KeyboardInterrupt",
     "evalue": "",
     "output_type": "error",
     "traceback": [
      "\u001b[0;31m---------------------------------------------------------------------------\u001b[0m",
      "\u001b[0;31mKeyboardInterrupt\u001b[0m                         Traceback (most recent call last)",
      "Cell \u001b[0;32mIn[13], line 1\u001b[0m\n\u001b[0;32m----> 1\u001b[0m tsne_embedding \u001b[38;5;241m=\u001b[39m visualize_embeddings(embeddings, aligned_metadata, \u001b[38;5;124m\"\u001b[39m\u001b[38;5;124mt-SNE\u001b[39m\u001b[38;5;124m\"\u001b[39m)\n",
      "Cell \u001b[0;32mIn[10], line 32\u001b[0m, in \u001b[0;36mvisualize_embeddings\u001b[0;34m(embeddings, metadata, method, aggregated)\u001b[0m\n\u001b[1;32m     29\u001b[0m \u001b[38;5;28;01melif\u001b[39;00m method \u001b[38;5;241m==\u001b[39m \u001b[38;5;124m\"\u001b[39m\u001b[38;5;124mPCA\u001b[39m\u001b[38;5;124m\"\u001b[39m:\n\u001b[1;32m     30\u001b[0m     reducer \u001b[38;5;241m=\u001b[39m PCA(n_components\u001b[38;5;241m=\u001b[39m\u001b[38;5;241m2\u001b[39m, random_state\u001b[38;5;241m=\u001b[39m\u001b[38;5;241m42\u001b[39m)\n\u001b[0;32m---> 32\u001b[0m reduced_data \u001b[38;5;241m=\u001b[39m reducer\u001b[38;5;241m.\u001b[39mfit_transform(embeddings)\n\u001b[1;32m     34\u001b[0m \u001b[38;5;66;03m# Plot with different colorings\u001b[39;00m\n\u001b[1;32m     35\u001b[0m \u001b[38;5;28;01mfor\u001b[39;00m color_by \u001b[38;5;129;01min\u001b[39;00m [\u001b[38;5;124m'\u001b[39m\u001b[38;5;124mclass_name\u001b[39m\u001b[38;5;124m'\u001b[39m, \u001b[38;5;124m'\u001b[39m\u001b[38;5;124msuperclass\u001b[39m\u001b[38;5;124m'\u001b[39m, \u001b[38;5;124m'\u001b[39m\u001b[38;5;124msubclass\u001b[39m\u001b[38;5;124m'\u001b[39m, \u001b[38;5;124m'\u001b[39m\u001b[38;5;124mresolution\u001b[39m\u001b[38;5;124m'\u001b[39m, \u001b[38;5;124m'\u001b[39m\u001b[38;5;124mpatient_id\u001b[39m\u001b[38;5;124m'\u001b[39m]:\n",
      "File \u001b[0;32m~/miniconda/envs/torch/lib/python3.12/site-packages/sklearn/utils/_set_output.py:319\u001b[0m, in \u001b[0;36m_wrap_method_output.<locals>.wrapped\u001b[0;34m(self, X, *args, **kwargs)\u001b[0m\n\u001b[1;32m    317\u001b[0m \u001b[38;5;129m@wraps\u001b[39m(f)\n\u001b[1;32m    318\u001b[0m \u001b[38;5;28;01mdef\u001b[39;00m \u001b[38;5;21mwrapped\u001b[39m(\u001b[38;5;28mself\u001b[39m, X, \u001b[38;5;241m*\u001b[39margs, \u001b[38;5;241m*\u001b[39m\u001b[38;5;241m*\u001b[39mkwargs):\n\u001b[0;32m--> 319\u001b[0m     data_to_wrap \u001b[38;5;241m=\u001b[39m f(\u001b[38;5;28mself\u001b[39m, X, \u001b[38;5;241m*\u001b[39margs, \u001b[38;5;241m*\u001b[39m\u001b[38;5;241m*\u001b[39mkwargs)\n\u001b[1;32m    320\u001b[0m     \u001b[38;5;28;01mif\u001b[39;00m \u001b[38;5;28misinstance\u001b[39m(data_to_wrap, \u001b[38;5;28mtuple\u001b[39m):\n\u001b[1;32m    321\u001b[0m         \u001b[38;5;66;03m# only wrap the first output for cross decomposition\u001b[39;00m\n\u001b[1;32m    322\u001b[0m         return_tuple \u001b[38;5;241m=\u001b[39m (\n\u001b[1;32m    323\u001b[0m             _wrap_data_with_container(method, data_to_wrap[\u001b[38;5;241m0\u001b[39m], X, \u001b[38;5;28mself\u001b[39m),\n\u001b[1;32m    324\u001b[0m             \u001b[38;5;241m*\u001b[39mdata_to_wrap[\u001b[38;5;241m1\u001b[39m:],\n\u001b[1;32m    325\u001b[0m         )\n",
      "File \u001b[0;32m~/miniconda/envs/torch/lib/python3.12/site-packages/sklearn/base.py:1389\u001b[0m, in \u001b[0;36m_fit_context.<locals>.decorator.<locals>.wrapper\u001b[0;34m(estimator, *args, **kwargs)\u001b[0m\n\u001b[1;32m   1382\u001b[0m     estimator\u001b[38;5;241m.\u001b[39m_validate_params()\n\u001b[1;32m   1384\u001b[0m \u001b[38;5;28;01mwith\u001b[39;00m config_context(\n\u001b[1;32m   1385\u001b[0m     skip_parameter_validation\u001b[38;5;241m=\u001b[39m(\n\u001b[1;32m   1386\u001b[0m         prefer_skip_nested_validation \u001b[38;5;129;01mor\u001b[39;00m global_skip_validation\n\u001b[1;32m   1387\u001b[0m     )\n\u001b[1;32m   1388\u001b[0m ):\n\u001b[0;32m-> 1389\u001b[0m     \u001b[38;5;28;01mreturn\u001b[39;00m fit_method(estimator, \u001b[38;5;241m*\u001b[39margs, \u001b[38;5;241m*\u001b[39m\u001b[38;5;241m*\u001b[39mkwargs)\n",
      "File \u001b[0;32m~/miniconda/envs/torch/lib/python3.12/site-packages/sklearn/manifold/_t_sne.py:1178\u001b[0m, in \u001b[0;36mTSNE.fit_transform\u001b[0;34m(self, X, y)\u001b[0m\n\u001b[1;32m   1175\u001b[0m     \u001b[38;5;28mself\u001b[39m\u001b[38;5;241m.\u001b[39m_max_iter \u001b[38;5;241m=\u001b[39m \u001b[38;5;28mself\u001b[39m\u001b[38;5;241m.\u001b[39mmax_iter\n\u001b[1;32m   1177\u001b[0m \u001b[38;5;28mself\u001b[39m\u001b[38;5;241m.\u001b[39m_check_params_vs_input(X)\n\u001b[0;32m-> 1178\u001b[0m embedding \u001b[38;5;241m=\u001b[39m \u001b[38;5;28mself\u001b[39m\u001b[38;5;241m.\u001b[39m_fit(X)\n\u001b[1;32m   1179\u001b[0m \u001b[38;5;28mself\u001b[39m\u001b[38;5;241m.\u001b[39membedding_ \u001b[38;5;241m=\u001b[39m embedding\n\u001b[1;32m   1180\u001b[0m \u001b[38;5;28;01mreturn\u001b[39;00m \u001b[38;5;28mself\u001b[39m\u001b[38;5;241m.\u001b[39membedding_\n",
      "File \u001b[0;32m~/miniconda/envs/torch/lib/python3.12/site-packages/sklearn/manifold/_t_sne.py:1046\u001b[0m, in \u001b[0;36mTSNE._fit\u001b[0;34m(self, X, skip_num_points)\u001b[0m\n\u001b[1;32m   1040\u001b[0m \u001b[38;5;66;03m# Degrees of freedom of the Student's t-distribution. The suggestion\u001b[39;00m\n\u001b[1;32m   1041\u001b[0m \u001b[38;5;66;03m# degrees_of_freedom = n_components - 1 comes from\u001b[39;00m\n\u001b[1;32m   1042\u001b[0m \u001b[38;5;66;03m# \"Learning a Parametric Embedding by Preserving Local Structure\"\u001b[39;00m\n\u001b[1;32m   1043\u001b[0m \u001b[38;5;66;03m# Laurens van der Maaten, 2009.\u001b[39;00m\n\u001b[1;32m   1044\u001b[0m degrees_of_freedom \u001b[38;5;241m=\u001b[39m \u001b[38;5;28mmax\u001b[39m(\u001b[38;5;28mself\u001b[39m\u001b[38;5;241m.\u001b[39mn_components \u001b[38;5;241m-\u001b[39m \u001b[38;5;241m1\u001b[39m, \u001b[38;5;241m1\u001b[39m)\n\u001b[0;32m-> 1046\u001b[0m \u001b[38;5;28;01mreturn\u001b[39;00m \u001b[38;5;28mself\u001b[39m\u001b[38;5;241m.\u001b[39m_tsne(\n\u001b[1;32m   1047\u001b[0m     P,\n\u001b[1;32m   1048\u001b[0m     degrees_of_freedom,\n\u001b[1;32m   1049\u001b[0m     n_samples,\n\u001b[1;32m   1050\u001b[0m     X_embedded\u001b[38;5;241m=\u001b[39mX_embedded,\n\u001b[1;32m   1051\u001b[0m     neighbors\u001b[38;5;241m=\u001b[39mneighbors_nn,\n\u001b[1;32m   1052\u001b[0m     skip_num_points\u001b[38;5;241m=\u001b[39mskip_num_points,\n\u001b[1;32m   1053\u001b[0m )\n",
      "File \u001b[0;32m~/miniconda/envs/torch/lib/python3.12/site-packages/sklearn/manifold/_t_sne.py:1114\u001b[0m, in \u001b[0;36mTSNE._tsne\u001b[0;34m(self, P, degrees_of_freedom, n_samples, X_embedded, neighbors, skip_num_points)\u001b[0m\n\u001b[1;32m   1112\u001b[0m     opt_args[\u001b[38;5;124m\"\u001b[39m\u001b[38;5;124mmomentum\u001b[39m\u001b[38;5;124m\"\u001b[39m] \u001b[38;5;241m=\u001b[39m \u001b[38;5;241m0.8\u001b[39m\n\u001b[1;32m   1113\u001b[0m     opt_args[\u001b[38;5;124m\"\u001b[39m\u001b[38;5;124mn_iter_without_progress\u001b[39m\u001b[38;5;124m\"\u001b[39m] \u001b[38;5;241m=\u001b[39m \u001b[38;5;28mself\u001b[39m\u001b[38;5;241m.\u001b[39mn_iter_without_progress\n\u001b[0;32m-> 1114\u001b[0m     params, kl_divergence, it \u001b[38;5;241m=\u001b[39m _gradient_descent(obj_func, params, \u001b[38;5;241m*\u001b[39m\u001b[38;5;241m*\u001b[39mopt_args)\n\u001b[1;32m   1116\u001b[0m \u001b[38;5;66;03m# Save the final number of iterations\u001b[39;00m\n\u001b[1;32m   1117\u001b[0m \u001b[38;5;28mself\u001b[39m\u001b[38;5;241m.\u001b[39mn_iter_ \u001b[38;5;241m=\u001b[39m it\n",
      "File \u001b[0;32m~/miniconda/envs/torch/lib/python3.12/site-packages/sklearn/manifold/_t_sne.py:401\u001b[0m, in \u001b[0;36m_gradient_descent\u001b[0;34m(objective, p0, it, max_iter, n_iter_check, n_iter_without_progress, momentum, learning_rate, min_gain, min_grad_norm, verbose, args, kwargs)\u001b[0m\n\u001b[1;32m    398\u001b[0m \u001b[38;5;66;03m# only compute the error when needed\u001b[39;00m\n\u001b[1;32m    399\u001b[0m kwargs[\u001b[38;5;124m\"\u001b[39m\u001b[38;5;124mcompute_error\u001b[39m\u001b[38;5;124m\"\u001b[39m] \u001b[38;5;241m=\u001b[39m check_convergence \u001b[38;5;129;01mor\u001b[39;00m i \u001b[38;5;241m==\u001b[39m max_iter \u001b[38;5;241m-\u001b[39m \u001b[38;5;241m1\u001b[39m\n\u001b[0;32m--> 401\u001b[0m error, grad \u001b[38;5;241m=\u001b[39m objective(p, \u001b[38;5;241m*\u001b[39margs, \u001b[38;5;241m*\u001b[39m\u001b[38;5;241m*\u001b[39mkwargs)\n\u001b[1;32m    403\u001b[0m inc \u001b[38;5;241m=\u001b[39m update \u001b[38;5;241m*\u001b[39m grad \u001b[38;5;241m<\u001b[39m \u001b[38;5;241m0.0\u001b[39m\n\u001b[1;32m    404\u001b[0m dec \u001b[38;5;241m=\u001b[39m np\u001b[38;5;241m.\u001b[39minvert(inc)\n",
      "File \u001b[0;32m~/miniconda/envs/torch/lib/python3.12/site-packages/sklearn/manifold/_t_sne.py:282\u001b[0m, in \u001b[0;36m_kl_divergence_bh\u001b[0;34m(params, P, degrees_of_freedom, n_samples, n_components, angle, skip_num_points, verbose, compute_error, num_threads)\u001b[0m\n\u001b[1;32m    279\u001b[0m indptr \u001b[38;5;241m=\u001b[39m P\u001b[38;5;241m.\u001b[39mindptr\u001b[38;5;241m.\u001b[39mastype(np\u001b[38;5;241m.\u001b[39mint64, copy\u001b[38;5;241m=\u001b[39m\u001b[38;5;28;01mFalse\u001b[39;00m)\n\u001b[1;32m    281\u001b[0m grad \u001b[38;5;241m=\u001b[39m np\u001b[38;5;241m.\u001b[39mzeros(X_embedded\u001b[38;5;241m.\u001b[39mshape, dtype\u001b[38;5;241m=\u001b[39mnp\u001b[38;5;241m.\u001b[39mfloat32)\n\u001b[0;32m--> 282\u001b[0m error \u001b[38;5;241m=\u001b[39m _barnes_hut_tsne\u001b[38;5;241m.\u001b[39mgradient(\n\u001b[1;32m    283\u001b[0m     val_P,\n\u001b[1;32m    284\u001b[0m     X_embedded,\n\u001b[1;32m    285\u001b[0m     neighbors,\n\u001b[1;32m    286\u001b[0m     indptr,\n\u001b[1;32m    287\u001b[0m     grad,\n\u001b[1;32m    288\u001b[0m     angle,\n\u001b[1;32m    289\u001b[0m     n_components,\n\u001b[1;32m    290\u001b[0m     verbose,\n\u001b[1;32m    291\u001b[0m     dof\u001b[38;5;241m=\u001b[39mdegrees_of_freedom,\n\u001b[1;32m    292\u001b[0m     compute_error\u001b[38;5;241m=\u001b[39mcompute_error,\n\u001b[1;32m    293\u001b[0m     num_threads\u001b[38;5;241m=\u001b[39mnum_threads,\n\u001b[1;32m    294\u001b[0m )\n\u001b[1;32m    295\u001b[0m c \u001b[38;5;241m=\u001b[39m \u001b[38;5;241m2.0\u001b[39m \u001b[38;5;241m*\u001b[39m (degrees_of_freedom \u001b[38;5;241m+\u001b[39m \u001b[38;5;241m1.0\u001b[39m) \u001b[38;5;241m/\u001b[39m degrees_of_freedom\n\u001b[1;32m    296\u001b[0m grad \u001b[38;5;241m=\u001b[39m grad\u001b[38;5;241m.\u001b[39mravel()\n",
      "\u001b[0;31mKeyboardInterrupt\u001b[0m: "
     ]
    }
   ],
   "source": [
    "tsne_embedding = visualize_embeddings(embeddings, aligned_metadata, \"t-SNE\")"
   ]
  },
  {
   "cell_type": "code",
   "execution_count": null,
   "id": "686af66c",
   "metadata": {},
   "outputs": [],
   "source": [
    "tsne_embedding = visualize_embeddings(embeddings, aligned_metadata, \"t-SNE\")"
   ]
  },
  {
   "cell_type": "code",
   "execution_count": null,
   "id": "72e8dcbf",
   "metadata": {},
   "outputs": [],
   "source": [
    "umap_embedding = visualize_embeddings(embeddings, aligned_metadata, \"UMAP\")"
   ]
  },
  {
   "cell_type": "code",
   "execution_count": null,
   "id": "f46209d8",
   "metadata": {},
   "outputs": [],
   "source": [
    "pca_embedding = visualize_embeddings(embeddings, aligned_metadata, \"PCA\")"
   ]
  },
  {
   "cell_type": "code",
   "execution_count": null,
   "id": "40115cf0",
   "metadata": {},
   "outputs": [],
   "source": [
    "tsne_agg_embedding = visualize_embeddings(aggregated_embeddings, aggregated_metadata, \"t-SNE\", aggregated=True)"
   ]
  },
  {
   "cell_type": "code",
   "execution_count": null,
   "id": "9b70556c",
   "metadata": {},
   "outputs": [],
   "source": [
    "umap_agg_embedding = visualize_embeddings(aggregated_embeddings, aggregated_metadata, \"UMAP\", aggregated=True)"
   ]
  },
  {
   "cell_type": "code",
   "execution_count": null,
   "id": "986d93e0",
   "metadata": {},
   "outputs": [],
   "source": [
    "pca_agg_embedding = visualize_embeddings(aggregated_embeddings, aggregated_metadata, \"PCA\", aggregated=True)"
   ]
  },
  {
   "cell_type": "code",
   "execution_count": null,
   "id": "0c6615e5",
   "metadata": {},
   "outputs": [],
   "source": []
  }
 ],
 "metadata": {
  "kernelspec": {
   "display_name": "torch",
   "language": "python",
   "name": "python3"
  },
  "language_info": {
   "codemirror_mode": {
    "name": "ipython",
    "version": 3
   },
   "file_extension": ".py",
   "mimetype": "text/x-python",
   "name": "python",
   "nbconvert_exporter": "python",
   "pygments_lexer": "ipython3",
   "version": "3.12.2"
  }
 },
 "nbformat": 4,
 "nbformat_minor": 5
}
