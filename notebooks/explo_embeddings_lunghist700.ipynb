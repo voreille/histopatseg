{
 "cells": [
  {
   "cell_type": "code",
   "execution_count": null,
   "metadata": {},
   "outputs": [],
   "source": [
    "import os\n",
    "from pathlib import Path\n",
    "\n",
    "from dotenv import load_dotenv\n",
    "import pandas as pd\n",
    "import umap\n",
    "import numpy as np\n",
    "import matplotlib.pyplot as plt\n",
    "import seaborn as sns\n",
    "\n",
    "from histopatseg.constants import CLASS_MAPPING, SUPERCLASS_MAPPING\n",
    "\n",
    "load_dotenv()\n"
   ]
  },
  {
   "cell_type": "code",
   "execution_count": null,
   "metadata": {},
   "outputs": [],
   "source": [
    "magnification = 20\n",
    "data_path = Path(os.getenv(\"LUNGHIST700_PATH\"))\n",
    "metadata = pd.read_csv(\n",
    "    data_path /\n",
    "    f\"LungHist700_{magnification}x/metadata.csv\").set_index(\"tile_id\").drop(columns=[\"image_id\"])\n",
    "\n",
    "embeddings_path = Path(\n",
    "    f\"/home/valentin/workspaces/histopatseg/data/processed/LungHist700_embeddings/UNI2_{magnification}x.npz\"\n",
    "    # f\"/home/valentin/workspaces/histopatseg/data/processed/LungHist700_embeddings/convnext_large_{magnification}x.npz\"\n",
    "    # f\"/home/valentin/workspaces/histopatseg/data/processed/LungHist700_embeddings/bioptimus_{magnification}x.npz\"\n",
    ")"
   ]
  },
  {
   "cell_type": "code",
   "execution_count": null,
   "metadata": {},
   "outputs": [],
   "source": [
    "with np.load(embeddings_path) as data:\n",
    "    embeddings = data[\"embeddings\"]\n",
    "    tile_ids = data[\"tile_ids\"]\n",
    "    embedding_dim = data[\"embedding_dim\"]\n"
   ]
  },
  {
   "cell_type": "code",
   "execution_count": null,
   "metadata": {},
   "outputs": [],
   "source": [
    "metadata"
   ]
  },
  {
   "cell_type": "code",
   "execution_count": null,
   "metadata": {},
   "outputs": [],
   "source": [
    "embeddings_df = pd.DataFrame(embeddings, index=tile_ids)\n",
    "embeddings_df.head()"
   ]
  },
  {
   "cell_type": "code",
   "execution_count": null,
   "metadata": {},
   "outputs": [],
   "source": [
    "embeddings.shape"
   ]
  },
  {
   "cell_type": "code",
   "execution_count": null,
   "metadata": {},
   "outputs": [],
   "source": [
    "labels = metadata.loc[tile_ids, \"class_name\"].values\n",
    "labels_mapped = np.array([CLASS_MAPPING[label] for label in labels])"
   ]
  },
  {
   "cell_type": "code",
   "execution_count": null,
   "metadata": {},
   "outputs": [],
   "source": [
    "# Fit UMAP\n",
    "reducer = umap.UMAP(n_neighbors=15, min_dist=0.1, n_components=2, random_state=42)\n",
    "X_umap = reducer.fit_transform(embeddings)"
   ]
  },
  {
   "cell_type": "code",
   "execution_count": null,
   "metadata": {},
   "outputs": [],
   "source": [
    "\n",
    "# Visualize\n",
    "plt.figure(figsize=(8, 6))\n",
    "plt.scatter(X_umap[:, 0], X_umap[:, 1], c=labels_mapped, cmap='Spectral', s=10)\n",
    "plt.colorbar()\n",
    "plt.title(\"UMAP projection of the Digits dataset\")\n",
    "plt.show()"
   ]
  },
  {
   "cell_type": "code",
   "execution_count": null,
   "metadata": {},
   "outputs": [],
   "source": [
    "metadata.head()"
   ]
  },
  {
   "cell_type": "code",
   "execution_count": null,
   "metadata": {},
   "outputs": [],
   "source": [
    "def aggregate_embeddings(embeddings, tile_ids, metadata):\n",
    "\n",
    "    df = pd.DataFrame(embeddings)\n",
    "    df[\"image_id\"] = metadata.loc[tile_ids][\"original_filename\"].to_list()\n",
    "\n",
    "    aggregated_df = df.groupby(\"image_id\").mean()\n",
    "    image_ids = list(aggregated_df.index)\n",
    "\n",
    "    grouped_metadata = metadata.groupby(\"original_filename\").agg(\n",
    "        {key: \"first\"\n",
    "         for key in metadata.columns})\n",
    "\n",
    "    return aggregated_df, grouped_metadata.loc[image_ids]"
   ]
  },
  {
   "cell_type": "code",
   "execution_count": null,
   "metadata": {},
   "outputs": [],
   "source": [
    "aggregated_embeddings_df, aggregated_metadata = aggregate_embeddings(embeddings, tile_ids, metadata)"
   ]
  },
  {
   "cell_type": "code",
   "execution_count": null,
   "metadata": {},
   "outputs": [],
   "source": [
    "aggregated_embeddings_df.head()"
   ]
  },
  {
   "cell_type": "code",
   "execution_count": null,
   "metadata": {},
   "outputs": [],
   "source": [
    "aggregated_metadata.head()"
   ]
  },
  {
   "cell_type": "code",
   "execution_count": null,
   "metadata": {},
   "outputs": [],
   "source": [
    "\n",
    "reducer = umap.UMAP(n_neighbors=15, min_dist=0.1, n_components=2, random_state=42)\n",
    "X_umap = reducer.fit_transform(aggregated_embeddings_df)\n",
    "labels = aggregated_metadata[\"class_name\"].values\n",
    "magnifications = aggregated_metadata[\"resolution\"].values\n",
    "labels_mapped = np.array([CLASS_MAPPING[label] for label in labels])\n",
    "superclasses = aggregated_metadata[\"superclass\"].values\n",
    "superclasses_mapped = np.array([SUPERCLASS_MAPPING[s] for s in superclasses])"
   ]
  },
  {
   "cell_type": "code",
   "execution_count": null,
   "metadata": {},
   "outputs": [],
   "source": [
    "\n",
    "plt.figure(figsize=(8, 6))\n",
    "plt.scatter(X_umap[:, 0], X_umap[:, 1], c=labels_mapped, cmap='Spectral', s=10)\n",
    "# plt.scatter(X_umap[:, 0], X_umap[:, 1], c=magnifications, hue='category', palette='tab10')\n",
    "plt.colorbar()\n",
    "plt.title(\"UMAP projection of the Digits dataset\")\n",
    "plt.show()"
   ]
  },
  {
   "cell_type": "code",
   "execution_count": null,
   "metadata": {},
   "outputs": [],
   "source": [
    "umap_df = pd.DataFrame({\n",
    "    'x': X_umap[:, 0],\n",
    "    'y': X_umap[:, 1],\n",
    "    'magnification': magnifications,\n",
    "    'label': labels,  # optional if you want to use class_name instead\n",
    "    'superclass': superclasses  # optional\n",
    "})\n",
    "\n",
    "plt.figure(figsize=(8, 6))\n",
    "sns.scatterplot(\n",
    "    data=umap_df,\n",
    "    x='x',\n",
    "    y='y',\n",
    "    hue='magnification',  # categorical column here\n",
    "    palette='tab10',\n",
    "    s=10\n",
    ")\n",
    "plt.title(\"UMAP projection colored by magnification\")\n",
    "plt.legend(title=\"Magnification\", bbox_to_anchor=(1.05, 1), loc='upper left')\n",
    "plt.tight_layout()\n",
    "plt.show()"
   ]
  },
  {
   "cell_type": "code",
   "execution_count": null,
   "metadata": {},
   "outputs": [],
   "source": [
    "plt.figure(figsize=(8, 6))\n",
    "plt.scatter(X_umap[:, 0], X_umap[:, 1], c=superclasses_mapped, cmap='Spectral', s=10)\n",
    "plt.colorbar()\n",
    "plt.title(\"UMAP projection of the Digits dataset\")\n",
    "plt.show()"
   ]
  },
  {
   "cell_type": "code",
   "execution_count": null,
   "metadata": {},
   "outputs": [],
   "source": [
    "aggregated_embeddings_df_luad = aggregated_embeddings_df.loc[aggregated_metadata[aggregated_metadata[\"superclass\"] == \"aca\"].index]\n",
    "labels = aggregated_metadata[aggregated_metadata[\"superclass\"] == \"aca\"][\"class_name\"].values\n",
    "labels_mapped = np.array([CLASS_MAPPING[label] for label in labels])"
   ]
  },
  {
   "cell_type": "code",
   "execution_count": null,
   "metadata": {},
   "outputs": [],
   "source": [
    "reducer = umap.UMAP(n_neighbors=15, min_dist=0.1, n_components=2, random_state=42)\n",
    "X_umap = reducer.fit_transform(aggregated_embeddings_df_luad)"
   ]
  },
  {
   "cell_type": "code",
   "execution_count": null,
   "metadata": {},
   "outputs": [],
   "source": [
    "plt.figure(figsize=(8, 6))\n",
    "plt.scatter(X_umap[:, 0], X_umap[:, 1], c=labels_mapped, cmap='Spectral', s=10)\n",
    "plt.colorbar()\n",
    "plt.title(\"UMAP projection of the Digits dataset\")\n",
    "plt.show()"
   ]
  },
  {
   "cell_type": "code",
   "execution_count": null,
   "metadata": {},
   "outputs": [],
   "source": [
    "aggregated_embeddings_df_luad.shape"
   ]
  },
  {
   "cell_type": "code",
   "execution_count": null,
   "metadata": {},
   "outputs": [],
   "source": []
  }
 ],
 "metadata": {
  "kernelspec": {
   "display_name": "torchpl",
   "language": "python",
   "name": "python3"
  },
  "language_info": {
   "codemirror_mode": {
    "name": "ipython",
    "version": 3
   },
   "file_extension": ".py",
   "mimetype": "text/x-python",
   "name": "python",
   "nbconvert_exporter": "python",
   "pygments_lexer": "ipython3",
   "version": "3.11.0"
  }
 },
 "nbformat": 4,
 "nbformat_minor": 2
}
